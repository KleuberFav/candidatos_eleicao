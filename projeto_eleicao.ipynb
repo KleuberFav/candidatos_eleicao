{
 "cells": [
  {
   "cell_type": "code",
   "execution_count": 1,
   "id": "21e9746e",
   "metadata": {},
   "outputs": [],
   "source": [
    "#Importar Bibliotecas\n",
    "import pandas as pd\n",
    "import numpy as np\n",
    "import statistics\n",
    "import matplotlib.pyplot as plt\n",
    "%matplotlib inline\n",
    "import seaborn as sns\n",
    "from scipy import stats\n",
    "from sklearn.impute import SimpleImputer\n",
    "import pylab\n",
    "import statsmodels.api as sm\n",
    "from imblearn.over_sampling import SMOTENC\n",
    "import math"
   ]
  },
  {
   "cell_type": "code",
   "execution_count": 2,
   "id": "a698bbd4",
   "metadata": {},
   "outputs": [
    {
     "data": {
      "text/html": [
       "<div>\n",
       "<style scoped>\n",
       "    .dataframe tbody tr th:only-of-type {\n",
       "        vertical-align: middle;\n",
       "    }\n",
       "\n",
       "    .dataframe tbody tr th {\n",
       "        vertical-align: top;\n",
       "    }\n",
       "\n",
       "    .dataframe thead th {\n",
       "        text-align: right;\n",
       "    }\n",
       "</style>\n",
       "<table border=\"1\" class=\"dataframe\">\n",
       "  <thead>\n",
       "    <tr style=\"text-align: right;\">\n",
       "      <th></th>\n",
       "      <th>idade_posse</th>\n",
       "      <th>valor_total_declarado</th>\n",
       "      <th>nome_completo</th>\n",
       "      <th>municipio</th>\n",
       "      <th>partido</th>\n",
       "      <th>uf_nascimento</th>\n",
       "      <th>genero</th>\n",
       "      <th>grau_instrucao</th>\n",
       "      <th>estado_civil</th>\n",
       "      <th>declar_racial</th>\n",
       "      <th>reeleicao</th>\n",
       "      <th>declar_bens</th>\n",
       "      <th>situacao</th>\n",
       "    </tr>\n",
       "  </thead>\n",
       "  <tbody>\n",
       "    <tr>\n",
       "      <th>0</th>\n",
       "      <td>33</td>\n",
       "      <td>1285.00</td>\n",
       "      <td>EDILENE PEREIRA NEVES MACIEL</td>\n",
       "      <td>IGARAPÉ-MIRI</td>\n",
       "      <td>PC do B</td>\n",
       "      <td>PA</td>\n",
       "      <td>FEMININO</td>\n",
       "      <td>ENSINO MÉDIO COMPLETO</td>\n",
       "      <td>CASADO(A)</td>\n",
       "      <td>BRANCA</td>\n",
       "      <td>N</td>\n",
       "      <td>S</td>\n",
       "      <td>NÃO ELEITO</td>\n",
       "    </tr>\n",
       "    <tr>\n",
       "      <th>1</th>\n",
       "      <td>37</td>\n",
       "      <td>2692.70</td>\n",
       "      <td>JESSE OLIVEIRA DA SILVA</td>\n",
       "      <td>ULIANÓPOLIS</td>\n",
       "      <td>PTB</td>\n",
       "      <td>MA</td>\n",
       "      <td>MASCULINO</td>\n",
       "      <td>SUPERIOR COMPLETO</td>\n",
       "      <td>CASADO(A)</td>\n",
       "      <td>PARDA</td>\n",
       "      <td>N</td>\n",
       "      <td>S</td>\n",
       "      <td>NÃO ELEITO</td>\n",
       "    </tr>\n",
       "    <tr>\n",
       "      <th>2</th>\n",
       "      <td>31</td>\n",
       "      <td>4528.68</td>\n",
       "      <td>ELIENE DALVA SILVA DAS NEVES OLIVEIRA</td>\n",
       "      <td>SANTARÉM</td>\n",
       "      <td>PSD</td>\n",
       "      <td>PA</td>\n",
       "      <td>FEMININO</td>\n",
       "      <td>SUPERIOR COMPLETO</td>\n",
       "      <td>CASADO(A)</td>\n",
       "      <td>BRANCA</td>\n",
       "      <td>N</td>\n",
       "      <td>S</td>\n",
       "      <td>NÃO ELEITO</td>\n",
       "    </tr>\n",
       "    <tr>\n",
       "      <th>3</th>\n",
       "      <td>31</td>\n",
       "      <td>1943.72</td>\n",
       "      <td>PAULO CAMPOS SOARES</td>\n",
       "      <td>BREVES</td>\n",
       "      <td>PT</td>\n",
       "      <td>PA</td>\n",
       "      <td>MASCULINO</td>\n",
       "      <td>ENSINO MÉDIO COMPLETO</td>\n",
       "      <td>SOLTEIRO(A)</td>\n",
       "      <td>PARDA</td>\n",
       "      <td>N</td>\n",
       "      <td>N</td>\n",
       "      <td>NÃO ELEITO</td>\n",
       "    </tr>\n",
       "    <tr>\n",
       "      <th>4</th>\n",
       "      <td>32</td>\n",
       "      <td>600.00</td>\n",
       "      <td>RAMON DOS SANTOS SARAIVA</td>\n",
       "      <td>BARCARENA</td>\n",
       "      <td>REPUBLICANOS</td>\n",
       "      <td>PA</td>\n",
       "      <td>MASCULINO</td>\n",
       "      <td>SUPERIOR COMPLETO</td>\n",
       "      <td>SOLTEIRO(A)</td>\n",
       "      <td>PARDA</td>\n",
       "      <td>N</td>\n",
       "      <td>N</td>\n",
       "      <td>NÃO ELEITO</td>\n",
       "    </tr>\n",
       "    <tr>\n",
       "      <th>...</th>\n",
       "      <td>...</td>\n",
       "      <td>...</td>\n",
       "      <td>...</td>\n",
       "      <td>...</td>\n",
       "      <td>...</td>\n",
       "      <td>...</td>\n",
       "      <td>...</td>\n",
       "      <td>...</td>\n",
       "      <td>...</td>\n",
       "      <td>...</td>\n",
       "      <td>...</td>\n",
       "      <td>...</td>\n",
       "      <td>...</td>\n",
       "    </tr>\n",
       "    <tr>\n",
       "      <th>9330</th>\n",
       "      <td>36</td>\n",
       "      <td>4400.00</td>\n",
       "      <td>VANDERLEI PEREIRA DA COSTA</td>\n",
       "      <td>BREJO GRANDE DO ARAGUAIA</td>\n",
       "      <td>PDT</td>\n",
       "      <td>PA</td>\n",
       "      <td>MASCULINO</td>\n",
       "      <td>ENSINO MÉDIO COMPLETO</td>\n",
       "      <td>CASADO(A)</td>\n",
       "      <td>SEM INFORMAÇÃO</td>\n",
       "      <td>N</td>\n",
       "      <td>S</td>\n",
       "      <td>NÃO ELEITO</td>\n",
       "    </tr>\n",
       "    <tr>\n",
       "      <th>9331</th>\n",
       "      <td>31</td>\n",
       "      <td>10114.45</td>\n",
       "      <td>FERNANDA REIS DA SILVA</td>\n",
       "      <td>BREVES</td>\n",
       "      <td>PMN</td>\n",
       "      <td>PA</td>\n",
       "      <td>FEMININO</td>\n",
       "      <td>ENSINO MÉDIO COMPLETO</td>\n",
       "      <td>SOLTEIRO(A)</td>\n",
       "      <td>PARDA</td>\n",
       "      <td>N</td>\n",
       "      <td>S</td>\n",
       "      <td>NÃO ELEITO</td>\n",
       "    </tr>\n",
       "    <tr>\n",
       "      <th>9332</th>\n",
       "      <td>33</td>\n",
       "      <td>1500.00</td>\n",
       "      <td>MARIA JOSIANE SOUZA LIMA</td>\n",
       "      <td>SANTA MARIA DO PARÁ</td>\n",
       "      <td>DEM</td>\n",
       "      <td>PA</td>\n",
       "      <td>FEMININO</td>\n",
       "      <td>ENSINO MÉDIO COMPLETO</td>\n",
       "      <td>CASADO(A)</td>\n",
       "      <td>PARDA</td>\n",
       "      <td>N</td>\n",
       "      <td>S</td>\n",
       "      <td>NÃO ELEITO</td>\n",
       "    </tr>\n",
       "    <tr>\n",
       "      <th>9333</th>\n",
       "      <td>33</td>\n",
       "      <td>1100.00</td>\n",
       "      <td>FERNANDA DOS SANTOS DA SILVA NASCIMENTO</td>\n",
       "      <td>BREU BRANCO</td>\n",
       "      <td>PL</td>\n",
       "      <td>PA</td>\n",
       "      <td>FEMININO</td>\n",
       "      <td>SUPERIOR COMPLETO</td>\n",
       "      <td>CASADO(A)</td>\n",
       "      <td>BRANCA</td>\n",
       "      <td>S</td>\n",
       "      <td>S</td>\n",
       "      <td>ELEITO</td>\n",
       "    </tr>\n",
       "    <tr>\n",
       "      <th>9334</th>\n",
       "      <td>41</td>\n",
       "      <td>472.00</td>\n",
       "      <td>VERA LUCIA VALADARES FERNANDES</td>\n",
       "      <td>IPIXUNA DO PARÁ</td>\n",
       "      <td>PDT</td>\n",
       "      <td>PA</td>\n",
       "      <td>FEMININO</td>\n",
       "      <td>ENSINO MÉDIO COMPLETO</td>\n",
       "      <td>SOLTEIRO(A)</td>\n",
       "      <td>PARDA</td>\n",
       "      <td>N</td>\n",
       "      <td>N</td>\n",
       "      <td>NÃO ELEITO</td>\n",
       "    </tr>\n",
       "  </tbody>\n",
       "</table>\n",
       "<p>9335 rows × 13 columns</p>\n",
       "</div>"
      ],
      "text/plain": [
       "      idade_posse  valor_total_declarado  \\\n",
       "0              33                1285.00   \n",
       "1              37                2692.70   \n",
       "2              31                4528.68   \n",
       "3              31                1943.72   \n",
       "4              32                 600.00   \n",
       "...           ...                    ...   \n",
       "9330           36                4400.00   \n",
       "9331           31               10114.45   \n",
       "9332           33                1500.00   \n",
       "9333           33                1100.00   \n",
       "9334           41                 472.00   \n",
       "\n",
       "                                nome_completo                 municipio  \\\n",
       "0                EDILENE PEREIRA NEVES MACIEL              IGARAPÉ-MIRI   \n",
       "1                     JESSE OLIVEIRA DA SILVA               ULIANÓPOLIS   \n",
       "2       ELIENE DALVA SILVA DAS NEVES OLIVEIRA                  SANTARÉM   \n",
       "3                         PAULO CAMPOS SOARES                    BREVES   \n",
       "4                    RAMON DOS SANTOS SARAIVA                 BARCARENA   \n",
       "...                                       ...                       ...   \n",
       "9330               VANDERLEI PEREIRA DA COSTA  BREJO GRANDE DO ARAGUAIA   \n",
       "9331                   FERNANDA REIS DA SILVA                    BREVES   \n",
       "9332                 MARIA JOSIANE SOUZA LIMA       SANTA MARIA DO PARÁ   \n",
       "9333  FERNANDA DOS SANTOS DA SILVA NASCIMENTO               BREU BRANCO   \n",
       "9334           VERA LUCIA VALADARES FERNANDES           IPIXUNA DO PARÁ   \n",
       "\n",
       "           partido uf_nascimento     genero         grau_instrucao  \\\n",
       "0          PC do B            PA   FEMININO  ENSINO MÉDIO COMPLETO   \n",
       "1              PTB            MA  MASCULINO      SUPERIOR COMPLETO   \n",
       "2              PSD            PA   FEMININO      SUPERIOR COMPLETO   \n",
       "3               PT            PA  MASCULINO  ENSINO MÉDIO COMPLETO   \n",
       "4     REPUBLICANOS            PA  MASCULINO      SUPERIOR COMPLETO   \n",
       "...            ...           ...        ...                    ...   \n",
       "9330           PDT            PA  MASCULINO  ENSINO MÉDIO COMPLETO   \n",
       "9331           PMN            PA   FEMININO  ENSINO MÉDIO COMPLETO   \n",
       "9332           DEM            PA   FEMININO  ENSINO MÉDIO COMPLETO   \n",
       "9333            PL            PA   FEMININO      SUPERIOR COMPLETO   \n",
       "9334           PDT            PA   FEMININO  ENSINO MÉDIO COMPLETO   \n",
       "\n",
       "     estado_civil   declar_racial reeleicao declar_bens    situacao  \n",
       "0       CASADO(A)          BRANCA         N           S  NÃO ELEITO  \n",
       "1       CASADO(A)           PARDA         N           S  NÃO ELEITO  \n",
       "2       CASADO(A)          BRANCA         N           S  NÃO ELEITO  \n",
       "3     SOLTEIRO(A)           PARDA         N           N  NÃO ELEITO  \n",
       "4     SOLTEIRO(A)           PARDA         N           N  NÃO ELEITO  \n",
       "...           ...             ...       ...         ...         ...  \n",
       "9330    CASADO(A)  SEM INFORMAÇÃO         N           S  NÃO ELEITO  \n",
       "9331  SOLTEIRO(A)           PARDA         N           S  NÃO ELEITO  \n",
       "9332    CASADO(A)           PARDA         N           S  NÃO ELEITO  \n",
       "9333    CASADO(A)          BRANCA         S           S      ELEITO  \n",
       "9334  SOLTEIRO(A)           PARDA         N           N  NÃO ELEITO  \n",
       "\n",
       "[9335 rows x 13 columns]"
      ]
     },
     "metadata": {},
     "output_type": "display_data"
    }
   ],
   "source": [
    "#Importar Dados\n",
    "df = pd.read_csv('dadosbdd.csv')\n",
    "display(df)"
   ]
  },
  {
   "cell_type": "code",
   "execution_count": 3,
   "id": "e62b8a79",
   "metadata": {},
   "outputs": [
    {
     "data": {
      "text/plain": [
       "<bound method Index.all of Index(['idade_posse', 'valor_total_declarado', 'nome_completo', 'municipio',\n",
       "       'partido', 'uf_nascimento', 'genero', 'grau_instrucao', 'estado_civil',\n",
       "       'declar_racial', 'reeleicao', 'declar_bens', 'situacao'],\n",
       "      dtype='object')>"
      ]
     },
     "execution_count": 3,
     "metadata": {},
     "output_type": "execute_result"
    }
   ],
   "source": [
    "#Verificar nome das colunas\n",
    "df.columns.all"
   ]
  },
  {
   "cell_type": "markdown",
   "id": "0b0b3031",
   "metadata": {},
   "source": [
    "# Análise Exploratória dos Dados"
   ]
  },
  {
   "cell_type": "code",
   "execution_count": 4,
   "id": "25465b85",
   "metadata": {},
   "outputs": [
    {
     "data": {
      "text/plain": [
       "idade_posse              0\n",
       "valor_total_declarado    0\n",
       "nome_completo            0\n",
       "municipio                0\n",
       "partido                  0\n",
       "uf_nascimento            0\n",
       "genero                   0\n",
       "grau_instrucao           0\n",
       "estado_civil             0\n",
       "declar_racial            0\n",
       "reeleicao                0\n",
       "declar_bens              0\n",
       "situacao                 0\n",
       "dtype: int64"
      ]
     },
     "execution_count": 4,
     "metadata": {},
     "output_type": "execute_result"
    }
   ],
   "source": [
    "#Verificar quantos registros nulos em cada variável\n",
    "df.isnull().sum()"
   ]
  },
  {
   "cell_type": "markdown",
   "id": "fda8b7ab",
   "metadata": {},
   "source": [
    "### Variável Dependente"
   ]
  },
  {
   "cell_type": "code",
   "execution_count": 5,
   "id": "a2a52587",
   "metadata": {},
   "outputs": [
    {
     "data": {
      "text/plain": [
       "<AxesSubplot:xlabel='situacao', ylabel='count'>"
      ]
     },
     "execution_count": 5,
     "metadata": {},
     "output_type": "execute_result"
    },
    {
     "data": {
      "image/png": "[encoded data removed]",
      "text/plain": [
       "<Figure size 864x360 with 1 Axes>"
      ]
     },
     "metadata": {
      "needs_background": "light"
     },
     "output_type": "display_data"
    }
   ],
   "source": [
    "# Qual a distribuição da variável dependente?\n",
    "plt.figure(figsize=(12,5))\n",
    "sns.countplot(x='situacao',data=df, palette='Blues')"
   ]
  },
  {
   "cell_type": "code",
   "execution_count": 6,
   "id": "6ff69993",
   "metadata": {},
   "outputs": [
    {
     "data": {
      "text/plain": [
       "situacao\n",
       "ELEITO        1313\n",
       "NÃO ELEITO    8022\n",
       "dtype: int64"
      ]
     },
     "execution_count": 6,
     "metadata": {},
     "output_type": "execute_result"
    }
   ],
   "source": [
    "# Quantidade de eleitos e não eleitos\n",
    "df.groupby(['situacao']).size()"
   ]
  },
  {
   "cell_type": "code",
   "execution_count": 7,
   "id": "a7f704b1",
   "metadata": {},
   "outputs": [
    {
     "name": "stdout",
     "output_type": "stream",
     "text": [
      "Eleitos: 14 %\n",
      "Não Eleitos: 86 %\n"
     ]
    }
   ],
   "source": [
    "# Percentual dos registros de eleitos e não eleitos\n",
    "print('Eleitos:', round(1313 / 9335 * 100),'%')\n",
    "print('Não Eleitos:', round(8022 / 9335 * 100),'%')"
   ]
  },
  {
   "cell_type": "markdown",
   "id": "ed854924",
   "metadata": {},
   "source": [
    "Usando o critério de 30% de corte, vamos balancear a classe"
   ]
  },
  {
   "cell_type": "markdown",
   "id": "6d6ec5c8",
   "metadata": {},
   "source": [
    "### Qual é a distribuição das variáveis quantitativas?"
   ]
  },
  {
   "cell_type": "markdown",
   "id": "96646417",
   "metadata": {},
   "source": [
    "##### Idade na posse"
   ]
  },
  {
   "cell_type": "code",
   "execution_count": 8,
   "id": "87f2d175",
   "metadata": {},
   "outputs": [
    {
     "data": {
      "text/plain": [
       "<AxesSubplot:xlabel='situacao', ylabel='idade_posse'>"
      ]
     },
     "execution_count": 8,
     "metadata": {},
     "output_type": "execute_result"
    },
    {
     "data": {
      "image/png": "[encoded data removed]",
      "text/plain": [
       "<Figure size 864x360 with 1 Axes>"
      ]
     },
     "metadata": {
      "needs_background": "light"
     },
     "output_type": "display_data"
    }
   ],
   "source": [
    "#Distribuição conjunta dos sobrevivente pela Idade\n",
    "plt.figure(figsize=(12,5))\n",
    "sns.boxplot(x='situacao',y='idade_posse',data=df,palette='winter')"
   ]
  },
  {
   "cell_type": "markdown",
   "id": "7e40b2a4",
   "metadata": {},
   "source": [
    "Aparentemente há pouca relação entre a idade e a situação"
   ]
  },
  {
   "cell_type": "code",
   "execution_count": 15,
   "id": "6a2f4b25",
   "metadata": {},
   "outputs": [
    {
     "data": {
      "text/plain": [
       "<AxesSubplot:xlabel='idade_posse', ylabel='valor_total_declarado'>"
      ]
     },
     "execution_count": 15,
     "metadata": {},
     "output_type": "execute_result"
    },
    {
     "data": {
      "image/png": "[encoded data removed]",
      "text/plain": [
       "<Figure size 864x360 with 1 Axes>"
      ]
     },
     "metadata": {
      "needs_background": "light"
     },
     "output_type": "display_data"
    }
   ],
   "source": [
    "#Dispersão entre o valor total declarado pela Idade\n",
    "plt.figure(figsize=(12,5))\n",
    "sns.scatterplot(x='idade_posse',y='valor_total_declarado',data=df,palette='winter')"
   ]
  },
  {
   "cell_type": "markdown",
   "id": "203d7c9b",
   "metadata": {},
   "source": [
    "aparentemente não há uma correlação bem clara entre idade_posse e valor_total_declarado"
   ]
  },
  {
   "cell_type": "code",
   "execution_count": 14,
   "id": "e94ac3d6",
   "metadata": {},
   "outputs": [
    {
     "data": {
      "text/plain": [
       "<AxesSubplot:xlabel='genero', ylabel='idade_posse'>"
      ]
     },
     "execution_count": 14,
     "metadata": {},
     "output_type": "execute_result"
    },
    {
     "data": {
      "image/png": "[encoded data removed]",
      "text/plain": [
       "<Figure size 864x360 with 1 Axes>"
      ]
     },
     "metadata": {
      "needs_background": "light"
     },
     "output_type": "display_data"
    }
   ],
   "source": [
    "#Distribuição conjunta dos genero pela Idade\n",
    "plt.figure(figsize=(12,5))\n",
    "sns.boxplot(x='genero',y='idade_posse',data=df,palette='winter')"
   ]
  },
  {
   "cell_type": "markdown",
   "id": "075b4c21",
   "metadata": {},
   "source": [
    "Aparentemente há pouca relação entre a idade e a genero"
   ]
  },
  {
   "cell_type": "code",
   "execution_count": 13,
   "id": "5e0cf6b4",
   "metadata": {},
   "outputs": [
    {
     "data": {
      "text/plain": [
       "<AxesSubplot:xlabel='grau_instrucao', ylabel='idade_posse'>"
      ]
     },
     "execution_count": 13,
     "metadata": {},
     "output_type": "execute_result"
    },
    {
     "data": {
      "image/png": "[encoded data removed]",
      "text/plain": [
       "<Figure size 1440x360 with 1 Axes>"
      ]
     },
     "metadata": {
      "needs_background": "light"
     },
     "output_type": "display_data"
    }
   ],
   "source": [
    "#Distribuição conjunta dos grau de instrução pela Idade\n",
    "plt.figure(figsize=(20,5))\n",
    "sns.boxplot(x='grau_instrucao',y='idade_posse',data=df,palette='winter')"
   ]
  },
  {
   "cell_type": "markdown",
   "id": "bc216682",
   "metadata": {},
   "source": [
    "Aparentemente quem tem superior incompleto são candidatos um pouco mais novos que os outros"
   ]
  },
  {
   "cell_type": "code",
   "execution_count": 18,
   "id": "3aa8c451",
   "metadata": {},
   "outputs": [
    {
     "data": {
      "text/plain": [
       "<AxesSubplot:xlabel='estado_civil', ylabel='idade_posse'>"
      ]
     },
     "execution_count": 18,
     "metadata": {},
     "output_type": "execute_result"
    },
    {
     "data": {
      "image/png": "[encoded data removed]",
      "text/plain": [
       "<Figure size 864x360 with 1 Axes>"
      ]
     },
     "metadata": {
      "needs_background": "light"
     },
     "output_type": "display_data"
    }
   ],
   "source": [
    "#Distribuição conjunta do estado civil pela Idade\n",
    "plt.figure(figsize=(12,5))\n",
    "sns.boxplot(x='estado_civil',y='idade_posse',data=df,palette='winter')"
   ]
  },
  {
   "cell_type": "markdown",
   "id": "2e21d575",
   "metadata": {},
   "source": [
    "Candidatos solteiros são mais novos, viúvos são mais velhos"
   ]
  },
  {
   "cell_type": "code",
   "execution_count": 19,
   "id": "1441cbac",
   "metadata": {},
   "outputs": [
    {
     "data": {
      "text/plain": [
       "<AxesSubplot:xlabel='declar_racial', ylabel='idade_posse'>"
      ]
     },
     "execution_count": 19,
     "metadata": {},
     "output_type": "execute_result"
    },
    {
     "data": {
      "image/png": "[encoded data removed]",
      "text/plain": [
       "<Figure size 864x360 with 1 Axes>"
      ]
     },
     "metadata": {
      "needs_background": "light"
     },
     "output_type": "display_data"
    }
   ],
   "source": [
    "#Distribuição conjunta da declaração racial pela Idade\n",
    "plt.figure(figsize=(12,5))\n",
    "sns.boxplot(x='declar_racial',y='idade_posse',data=df,palette='winter')"
   ]
  },
  {
   "cell_type": "markdown",
   "id": "639463bd",
   "metadata": {},
   "source": [
    "Aparentemente não há diferença de idade entre os candidatos de diversas raças declaradas"
   ]
  },
  {
   "cell_type": "code",
   "execution_count": 21,
   "id": "16e4fefc",
   "metadata": {},
   "outputs": [
    {
     "data": {
      "text/plain": [
       "<AxesSubplot:xlabel='reeleicao', ylabel='idade_posse'>"
      ]
     },
     "execution_count": 21,
     "metadata": {},
     "output_type": "execute_result"
    },
    {
     "data": {
      "image/png": "[encoded data removed]",
      "text/plain": [
       "<Figure size 864x360 with 1 Axes>"
      ]
     },
     "metadata": {
      "needs_background": "light"
     },
     "output_type": "display_data"
    }
   ],
   "source": [
    "#Distribuição conjunta da reeleição pela Idade\n",
    "plt.figure(figsize=(12,5))\n",
    "sns.boxplot(x='reeleicao',y='idade_posse',data=df,palette='winter')"
   ]
  },
  {
   "cell_type": "markdown",
   "id": "17700f3e",
   "metadata": {},
   "source": [
    "Aparentemente candidatos a reeleição são um pouco mais velhos"
   ]
  },
  {
   "cell_type": "code",
   "execution_count": 23,
   "id": "912ae8dd",
   "metadata": {},
   "outputs": [
    {
     "data": {
      "text/plain": [
       "<AxesSubplot:xlabel='declar_bens', ylabel='idade_posse'>"
      ]
     },
     "execution_count": 23,
     "metadata": {},
     "output_type": "execute_result"
    },
    {
     "data": {
      "image/png": "[encoded data removed]",
      "text/plain": [
       "<Figure size 864x360 with 1 Axes>"
      ]
     },
     "metadata": {
      "needs_background": "light"
     },
     "output_type": "display_data"
    }
   ],
   "source": [
    "#Distribuição conjunta da declaração de bens pela Idade\n",
    "plt.figure(figsize=(12,5))\n",
    "sns.boxplot(x='declar_bens',y='idade_posse',data=df,palette='winter')"
   ]
  },
  {
   "cell_type": "markdown",
   "id": "ebfa69ed",
   "metadata": {},
   "source": [
    "Aparentemente não há diferença de idade entre os candidatos que declararam bens e que não declararam"
   ]
  },
  {
   "cell_type": "code",
   "execution_count": 34,
   "id": "b48fc31a",
   "metadata": {},
   "outputs": [
    {
     "data": {
      "image/png": "[encoded data removed]",
      "text/plain": [
       "<Figure size 864x360 with 1 Axes>"
      ]
     },
     "metadata": {
      "needs_background": "light"
     },
     "output_type": "display_data"
    },
    {
     "name": "stderr",
     "output_type": "stream",
     "text": [
      "C:\\Users\\kleub\\anaconda3\\lib\\site-packages\\seaborn\\_decorators.py:36: FutureWarning: Pass the following variable as a keyword arg: x. From version 0.12, the only valid positional argument will be `data`, and passing other arguments without an explicit keyword will result in an error or misinterpretation.\n",
      "  warnings.warn(\n"
     ]
    },
    {
     "data": {
      "image/png": "[encoded data removed]",
      "text/plain": [
       "<Figure size 864x360 with 1 Axes>"
      ]
     },
     "metadata": {
      "needs_background": "light"
     },
     "output_type": "display_data"
    }
   ],
   "source": [
    "# Verificando a distribuição da variável Idade\n",
    "plt.figure(figsize=(12,5))\n",
    "plt.hist(df['idade_posse'], 10, rwidth=0.9, color='blue')\n",
    "plt.show()\n",
    "plt.figure(figsize=(12,5))\n",
    "sns.boxplot(df['idade_posse'], color='blue')\n",
    "plt.show()"
   ]
  },
  {
   "cell_type": "code",
   "execution_count": 33,
   "id": "163de96b",
   "metadata": {},
   "outputs": [
    {
     "data": {
      "text/plain": [
       "count    9335.000000\n",
       "mean       43.545153\n",
       "std        10.541330\n",
       "min        18.000000\n",
       "25%        36.000000\n",
       "50%        43.000000\n",
       "75%        50.000000\n",
       "max        91.000000\n",
       "Name: idade_posse, dtype: float64"
      ]
     },
     "execution_count": 33,
     "metadata": {},
     "output_type": "execute_result"
    }
   ],
   "source": [
    "#Verificando medidas de dispersão\n",
    "df['idade_posse'].describe()"
   ]
  },
  {
   "cell_type": "markdown",
   "id": "7235aa62",
   "metadata": {},
   "source": [
    "Os candidatos possuem entre 18 e 91 anos;\n",
    "\n",
    "A idade média dos candidatos é aproximadamente 43 anos;\n",
    "\n",
    "A mediana das idades é 43 anos;\n",
    "\n",
    "75% dos candidatos possuem até 50 anos;"
   ]
  },
  {
   "cell_type": "markdown",
   "id": "da7f349a",
   "metadata": {},
   "source": [
    "##### Valor Total Declarado"
   ]
  },
  {
   "cell_type": "code",
   "execution_count": 41,
   "id": "1c35afdf",
   "metadata": {},
   "outputs": [
    {
     "data": {
      "image/png": "[encoded data removed]",
      "text/plain": [
       "<Figure size 864x360 with 1 Axes>"
      ]
     },
     "metadata": {
      "needs_background": "light"
     },
     "output_type": "display_data"
    },
    {
     "name": "stderr",
     "output_type": "stream",
     "text": [
      "C:\\Users\\kleub\\anaconda3\\lib\\site-packages\\seaborn\\_decorators.py:36: FutureWarning: Pass the following variable as a keyword arg: x. From version 0.12, the only valid positional argument will be `data`, and passing other arguments without an explicit keyword will result in an error or misinterpretation.\n",
      "  warnings.warn(\n"
     ]
    },
    {
     "data": {
      "image/png": "[encoded data removed]",
      "text/plain": [
       "<Figure size 864x360 with 1 Axes>"
      ]
     },
     "metadata": {
      "needs_background": "light"
     },
     "output_type": "display_data"
    },
    {
     "data": {
      "text/plain": [
       "count      9335.000000\n",
       "mean       3134.696767\n",
       "std        7240.430671\n",
       "min           0.700000\n",
       "25%         609.910000\n",
       "50%        1457.500000\n",
       "75%        3136.755000\n",
       "max      157296.500000\n",
       "Name: valor_total_declarado, dtype: float64"
      ]
     },
     "execution_count": 41,
     "metadata": {},
     "output_type": "execute_result"
    }
   ],
   "source": [
    "# Verificando a distribuição da variável Valor total Declarado\n",
    "plt.figure(figsize=(12,5))\n",
    "plt.hist(df['valor_total_declarado'], 50, rwidth=0.9, color='blue')\n",
    "plt.show()\n",
    "plt.figure(figsize=(12,5))\n",
    "sns.boxplot(df['valor_total_declarado'], color='blue')\n",
    "plt.show()\n",
    "#Verificando medidas de dispersão\n",
    "df['valor_total_declarado'].describe()"
   ]
  },
  {
   "cell_type": "markdown",
   "id": "378c6146",
   "metadata": {},
   "source": [
    "Os candidatos declararam entre 0,70 centavos e 157296 reais;\n",
    "\n",
    "A média do valor total declarado é de 3134 reais aproximadamente;\n",
    "\n",
    "A mediana do valor total declarado é de 1457,50 reais;\n",
    "\n",
    "75% dos candidatos declararam até 313675 reais;"
   ]
  },
  {
   "cell_type": "markdown",
   "id": "5fcc361d",
   "metadata": {},
   "source": [
    "##### Sobre as variáveis Numéricas:\n",
    "##### Na variável Idade na posse:\n",
    "Os candidatos possuem entre 18 e 91 anos;\n",
    "\n",
    "A idade média dos candidatos é aproximadamente 43 anos;\n",
    "\n",
    "A mediana das idades é 43 anos;\n",
    "\n",
    "75% dos candidatos possuem até 50 anos;\n",
    "\n",
    "a idade segue uma distribuição normal;\n",
    "\n",
    "há pouca relação com a variável alvo;\n",
    "\n",
    "Aparentemente quem tem superior incompleto são candidatos um pouco mais novos que os outros;\n",
    "\n",
    "Candidatos solteiros são mais novos, viúvos são mais velhos;\n",
    "\n",
    "Aparentemente candidatos a reeleição são um pouco mais velhos;\n",
    "\n",
    "##### Na variável Tarifa:\n",
    "Os candidatos declararam entre 0,70 centavos e 157296 reais;\n",
    "\n",
    "A média do valor total declarado é de 3134 reais aproximadamente;\n",
    "\n",
    "A mediana do valor total declarado é de 1457,50 reais;\n",
    "\n",
    "75% dos candidatos declararam até 313675 reais;"
   ]
  },
  {
   "cell_type": "markdown",
   "id": "9d08800b",
   "metadata": {},
   "source": [
    "### Qual é a distribuição de recursos categóricos?"
   ]
  },
  {
   "cell_type": "markdown",
   "id": "31256caf",
   "metadata": {},
   "source": [
    "##### genero"
   ]
  },
  {
   "cell_type": "code",
   "execution_count": 43,
   "id": "160dd685",
   "metadata": {},
   "outputs": [
    {
     "data": {
      "text/plain": [
       "<AxesSubplot:xlabel='situacao', ylabel='count'>"
      ]
     },
     "execution_count": 43,
     "metadata": {},
     "output_type": "execute_result"
    },
    {
     "data": {
      "image/png": "[encoded data removed]",
      "text/plain": [
       "<Figure size 864x360 with 1 Axes>"
      ]
     },
     "metadata": {
      "needs_background": "light"
     },
     "output_type": "display_data"
    }
   ],
   "source": [
    "#Distribuição conjunta da situação por genero\n",
    "\n",
    "plt.figure(figsize=(12,5))\n",
    "sns.set_style('whitegrid')\n",
    "sns.countplot(x='situacao',hue='genero',data=df,palette='Greens')"
   ]
  },
  {
   "cell_type": "code",
   "execution_count": 44,
   "id": "a4d876ed",
   "metadata": {},
   "outputs": [
    {
     "data": {
      "text/plain": [
       "genero\n",
       "FEMININO     3060\n",
       "MASCULINO    6275\n",
       "dtype: int64"
      ]
     },
     "execution_count": 44,
     "metadata": {},
     "output_type": "execute_result"
    }
   ],
   "source": [
    "#Contagem de sobrevivente por genero\n",
    "df.groupby(['genero']).size()"
   ]
  },
  {
   "cell_type": "code",
   "execution_count": 45,
   "id": "cb7df341",
   "metadata": {},
   "outputs": [
    {
     "data": {
      "text/html": [
       "<div>\n",
       "<style scoped>\n",
       "    .dataframe tbody tr th:only-of-type {\n",
       "        vertical-align: middle;\n",
       "    }\n",
       "\n",
       "    .dataframe tbody tr th {\n",
       "        vertical-align: top;\n",
       "    }\n",
       "\n",
       "    .dataframe thead th {\n",
       "        text-align: right;\n",
       "    }\n",
       "</style>\n",
       "<table border=\"1\" class=\"dataframe\">\n",
       "  <thead>\n",
       "    <tr style=\"text-align: right;\">\n",
       "      <th>situacao</th>\n",
       "      <th>ELEITO</th>\n",
       "      <th>NÃO ELEITO</th>\n",
       "    </tr>\n",
       "    <tr>\n",
       "      <th>genero</th>\n",
       "      <th></th>\n",
       "      <th></th>\n",
       "    </tr>\n",
       "  </thead>\n",
       "  <tbody>\n",
       "    <tr>\n",
       "      <th>FEMININO</th>\n",
       "      <td>0.070588</td>\n",
       "      <td>0.929412</td>\n",
       "    </tr>\n",
       "    <tr>\n",
       "      <th>MASCULINO</th>\n",
       "      <td>0.174821</td>\n",
       "      <td>0.825179</td>\n",
       "    </tr>\n",
       "  </tbody>\n",
       "</table>\n",
       "</div>"
      ],
      "text/plain": [
       "situacao     ELEITO  NÃO ELEITO\n",
       "genero                         \n",
       "FEMININO   0.070588    0.929412\n",
       "MASCULINO  0.174821    0.825179"
      ]
     },
     "execution_count": 45,
     "metadata": {},
     "output_type": "execute_result"
    }
   ],
   "source": [
    "#Distribuição conjunta da proporção em relação ao total de sobrevivente por genero\n",
    "data_crosstab = pd.crosstab(df['genero'],\n",
    "                            df['situacao'], \n",
    "                               margins = False,\n",
    "                           normalize='index')\n",
    "pd.DataFrame(data_crosstab)"
   ]
  },
  {
   "cell_type": "markdown",
   "id": "37c00028",
   "metadata": {},
   "source": [
    "Somente 7% das mulheres foram eleitas;\n",
    "\n",
    "17% dos homens foram eleitos"
   ]
  },
  {
   "cell_type": "code",
   "execution_count": 46,
   "id": "2ba404fa",
   "metadata": {},
   "outputs": [
    {
     "data": {
      "text/plain": [
       "<AxesSubplot:xlabel='situacao', ylabel='count'>"
      ]
     },
     "execution_count": 46,
     "metadata": {},
     "output_type": "execute_result"
    },
    {
     "data": {
      "image/png": "[encoded data removed]",
      "text/plain": [
       "<Figure size 864x360 with 1 Axes>"
      ]
     },
     "metadata": {},
     "output_type": "display_data"
    }
   ],
   "source": [
    "#Distribuição conjunta da situação por grau_instrucao\n",
    "\n",
    "plt.figure(figsize=(12,5))\n",
    "sns.set_style('whitegrid')\n",
    "sns.countplot(x='situacao',hue='grau_instrucao',data=df,palette='Greens')"
   ]
  },
  {
   "cell_type": "code",
   "execution_count": 47,
   "id": "001d96ed",
   "metadata": {},
   "outputs": [
    {
     "data": {
      "text/plain": [
       "grau_instrucao\n",
       "ENSINO FUNDAMENTAL COMPLETO      1157\n",
       "ENSINO FUNDAMENTAL INCOMPLETO    1154\n",
       "ENSINO MÉDIO COMPLETO            3545\n",
       "ENSINO MÉDIO INCOMPLETO           357\n",
       "LÊ E ESCREVE                      397\n",
       "SUPERIOR COMPLETO                2445\n",
       "SUPERIOR INCOMPLETO               280\n",
       "dtype: int64"
      ]
     },
     "execution_count": 47,
     "metadata": {},
     "output_type": "execute_result"
    }
   ],
   "source": [
    "#Contagem de sobrevivente por grau_instrucao\n",
    "df.groupby(['grau_instrucao']).size()"
   ]
  },
  {
   "cell_type": "code",
   "execution_count": 49,
   "id": "cb86db1e",
   "metadata": {},
   "outputs": [
    {
     "data": {
      "text/html": [
       "<div>\n",
       "<style scoped>\n",
       "    .dataframe tbody tr th:only-of-type {\n",
       "        vertical-align: middle;\n",
       "    }\n",
       "\n",
       "    .dataframe tbody tr th {\n",
       "        vertical-align: top;\n",
       "    }\n",
       "\n",
       "    .dataframe thead th {\n",
       "        text-align: right;\n",
       "    }\n",
       "</style>\n",
       "<table border=\"1\" class=\"dataframe\">\n",
       "  <thead>\n",
       "    <tr style=\"text-align: right;\">\n",
       "      <th>grau_instrucao</th>\n",
       "      <th>ENSINO FUNDAMENTAL COMPLETO</th>\n",
       "      <th>ENSINO FUNDAMENTAL INCOMPLETO</th>\n",
       "      <th>ENSINO MÉDIO COMPLETO</th>\n",
       "      <th>ENSINO MÉDIO INCOMPLETO</th>\n",
       "      <th>LÊ E ESCREVE</th>\n",
       "      <th>SUPERIOR COMPLETO</th>\n",
       "      <th>SUPERIOR INCOMPLETO</th>\n",
       "    </tr>\n",
       "    <tr>\n",
       "      <th>situacao</th>\n",
       "      <th></th>\n",
       "      <th></th>\n",
       "      <th></th>\n",
       "      <th></th>\n",
       "      <th></th>\n",
       "      <th></th>\n",
       "      <th></th>\n",
       "    </tr>\n",
       "  </thead>\n",
       "  <tbody>\n",
       "    <tr>\n",
       "      <th>ELEITO</th>\n",
       "      <td>0.110434</td>\n",
       "      <td>0.102818</td>\n",
       "      <td>0.399848</td>\n",
       "      <td>0.028941</td>\n",
       "      <td>0.025895</td>\n",
       "      <td>0.302361</td>\n",
       "      <td>0.029703</td>\n",
       "    </tr>\n",
       "    <tr>\n",
       "      <th>NÃO ELEITO</th>\n",
       "      <td>0.126153</td>\n",
       "      <td>0.127026</td>\n",
       "      <td>0.376465</td>\n",
       "      <td>0.039766</td>\n",
       "      <td>0.045251</td>\n",
       "      <td>0.255298</td>\n",
       "      <td>0.030042</td>\n",
       "    </tr>\n",
       "  </tbody>\n",
       "</table>\n",
       "</div>"
      ],
      "text/plain": [
       "grau_instrucao  ENSINO FUNDAMENTAL COMPLETO  ENSINO FUNDAMENTAL INCOMPLETO  \\\n",
       "situacao                                                                     \n",
       "ELEITO                             0.110434                       0.102818   \n",
       "NÃO ELEITO                         0.126153                       0.127026   \n",
       "\n",
       "grau_instrucao  ENSINO MÉDIO COMPLETO  ENSINO MÉDIO INCOMPLETO  LÊ E ESCREVE  \\\n",
       "situacao                                                                       \n",
       "ELEITO                       0.399848                 0.028941      0.025895   \n",
       "NÃO ELEITO                   0.376465                 0.039766      0.045251   \n",
       "\n",
       "grau_instrucao  SUPERIOR COMPLETO  SUPERIOR INCOMPLETO  \n",
       "situacao                                                \n",
       "ELEITO                   0.302361             0.029703  \n",
       "NÃO ELEITO               0.255298             0.030042  "
      ]
     },
     "execution_count": 49,
     "metadata": {},
     "output_type": "execute_result"
    }
   ],
   "source": [
    "#Distribuição conjunta da proporção em relação ao total de sobrevivente por grau_instrucao\n",
    "data_crosstab = pd.crosstab(df['situacao'],\n",
    "                            df['grau_instrucao'], \n",
    "                               margins = False,\n",
    "                           normalize='index')\n",
    "pd.DataFrame(data_crosstab)"
   ]
  },
  {
   "cell_type": "markdown",
   "id": "b507583f",
   "metadata": {},
   "source": [
    "39% dos candidatos eleitos possuem ensino médio completo;\n",
    "\n",
    "37% dos candidatos não eleitos possuem ensino médio completo"
   ]
  },
  {
   "cell_type": "code",
   "execution_count": 50,
   "id": "9d4ee4e7",
   "metadata": {},
   "outputs": [
    {
     "data": {
      "text/plain": [
       "<AxesSubplot:xlabel='situacao', ylabel='count'>"
      ]
     },
     "execution_count": 50,
     "metadata": {},
     "output_type": "execute_result"
    },
    {
     "data": {
      "image/png": "[encoded data removed]",
      "text/plain": [
       "<Figure size 864x360 with 1 Axes>"
      ]
     },
     "metadata": {},
     "output_type": "display_data"
    }
   ],
   "source": [
    "#Distribuição conjunta da situação por estado_civil\n",
    "\n",
    "plt.figure(figsize=(12,5))\n",
    "sns.set_style('whitegrid')\n",
    "sns.countplot(x='situacao',hue='estado_civil',data=df,palette='Greens')"
   ]
  },
  {
   "cell_type": "code",
   "execution_count": 51,
   "id": "7d9d19b4",
   "metadata": {},
   "outputs": [
    {
     "data": {
      "text/plain": [
       "estado_civil\n",
       "CASADO(A)                    3956\n",
       "DIVORCIADO(A)                 486\n",
       "SEPARADO(A) JUDICIALMENTE      26\n",
       "SOLTEIRO(A)                  4767\n",
       "VIÚVO(A)                      100\n",
       "dtype: int64"
      ]
     },
     "execution_count": 51,
     "metadata": {},
     "output_type": "execute_result"
    }
   ],
   "source": [
    "#Contagem de sobrevivente por estado_civil\n",
    "df.groupby(['estado_civil']).size()"
   ]
  },
  {
   "cell_type": "code",
   "execution_count": 52,
   "id": "0c9a3037",
   "metadata": {},
   "outputs": [
    {
     "data": {
      "text/html": [
       "<div>\n",
       "<style scoped>\n",
       "    .dataframe tbody tr th:only-of-type {\n",
       "        vertical-align: middle;\n",
       "    }\n",
       "\n",
       "    .dataframe tbody tr th {\n",
       "        vertical-align: top;\n",
       "    }\n",
       "\n",
       "    .dataframe thead th {\n",
       "        text-align: right;\n",
       "    }\n",
       "</style>\n",
       "<table border=\"1\" class=\"dataframe\">\n",
       "  <thead>\n",
       "    <tr style=\"text-align: right;\">\n",
       "      <th>estado_civil</th>\n",
       "      <th>CASADO(A)</th>\n",
       "      <th>DIVORCIADO(A)</th>\n",
       "      <th>SEPARADO(A) JUDICIALMENTE</th>\n",
       "      <th>SOLTEIRO(A)</th>\n",
       "      <th>VIÚVO(A)</th>\n",
       "    </tr>\n",
       "    <tr>\n",
       "      <th>situacao</th>\n",
       "      <th></th>\n",
       "      <th></th>\n",
       "      <th></th>\n",
       "      <th></th>\n",
       "      <th></th>\n",
       "    </tr>\n",
       "  </thead>\n",
       "  <tbody>\n",
       "    <tr>\n",
       "      <th>ELEITO</th>\n",
       "      <td>0.504950</td>\n",
       "      <td>0.042650</td>\n",
       "      <td>0.004570</td>\n",
       "      <td>0.441736</td>\n",
       "      <td>0.006093</td>\n",
       "    </tr>\n",
       "    <tr>\n",
       "      <th>NÃO ELEITO</th>\n",
       "      <td>0.410496</td>\n",
       "      <td>0.053603</td>\n",
       "      <td>0.002493</td>\n",
       "      <td>0.521940</td>\n",
       "      <td>0.011468</td>\n",
       "    </tr>\n",
       "  </tbody>\n",
       "</table>\n",
       "</div>"
      ],
      "text/plain": [
       "estado_civil  CASADO(A)  DIVORCIADO(A)  SEPARADO(A) JUDICIALMENTE  \\\n",
       "situacao                                                            \n",
       "ELEITO         0.504950       0.042650                   0.004570   \n",
       "NÃO ELEITO     0.410496       0.053603                   0.002493   \n",
       "\n",
       "estado_civil  SOLTEIRO(A)  VIÚVO(A)  \n",
       "situacao                             \n",
       "ELEITO           0.441736  0.006093  \n",
       "NÃO ELEITO       0.521940  0.011468  "
      ]
     },
     "execution_count": 52,
     "metadata": {},
     "output_type": "execute_result"
    }
   ],
   "source": [
    "#Distribuição conjunta da proporção em relação ao total de sobrevivente por estado_civil\n",
    "data_crosstab = pd.crosstab(df['situacao'],\n",
    "                            df['estado_civil'], \n",
    "                               margins = False,\n",
    "                           normalize='index')\n",
    "pd.DataFrame(data_crosstab)"
   ]
  },
  {
   "cell_type": "markdown",
   "id": "b46e40d5",
   "metadata": {},
   "source": [
    "50% dos candidatos eleitos são casados;\n",
    "\n",
    "52% dos candidatos não eleitos são solteiros"
   ]
  },
  {
   "cell_type": "code",
   "execution_count": 53,
   "id": "3d453a00",
   "metadata": {},
   "outputs": [
    {
     "data": {
      "text/plain": [
       "<AxesSubplot:xlabel='situacao', ylabel='count'>"
      ]
     },
     "execution_count": 53,
     "metadata": {},
     "output_type": "execute_result"
    },
    {
     "data": {
      "image/png": "[encoded data removed]",
      "text/plain": [
       "<Figure size 864x360 with 1 Axes>"
      ]
     },
     "metadata": {},
     "output_type": "display_data"
    }
   ],
   "source": [
    "#Distribuição conjunta da situação por declar_racial\n",
    "\n",
    "plt.figure(figsize=(12,5))\n",
    "sns.set_style('whitegrid')\n",
    "sns.countplot(x='situacao',hue='declar_racial',data=df,palette='Greens')"
   ]
  },
  {
   "cell_type": "code",
   "execution_count": 54,
   "id": "05d01a97",
   "metadata": {},
   "outputs": [
    {
     "data": {
      "text/plain": [
       "declar_racial\n",
       "AMARELA             29\n",
       "BRANCA            1795\n",
       "INDÍGENA            45\n",
       "PARDA             6355\n",
       "PRETA              976\n",
       "SEM INFORMAÇÃO     135\n",
       "dtype: int64"
      ]
     },
     "execution_count": 54,
     "metadata": {},
     "output_type": "execute_result"
    }
   ],
   "source": [
    "#Contagem de sobrevivente por declar_racial\n",
    "df.groupby(['declar_racial']).size()"
   ]
  },
  {
   "cell_type": "code",
   "execution_count": 55,
   "id": "09afaefa",
   "metadata": {},
   "outputs": [
    {
     "data": {
      "text/html": [
       "<div>\n",
       "<style scoped>\n",
       "    .dataframe tbody tr th:only-of-type {\n",
       "        vertical-align: middle;\n",
       "    }\n",
       "\n",
       "    .dataframe tbody tr th {\n",
       "        vertical-align: top;\n",
       "    }\n",
       "\n",
       "    .dataframe thead th {\n",
       "        text-align: right;\n",
       "    }\n",
       "</style>\n",
       "<table border=\"1\" class=\"dataframe\">\n",
       "  <thead>\n",
       "    <tr style=\"text-align: right;\">\n",
       "      <th>declar_racial</th>\n",
       "      <th>AMARELA</th>\n",
       "      <th>BRANCA</th>\n",
       "      <th>INDÍGENA</th>\n",
       "      <th>PARDA</th>\n",
       "      <th>PRETA</th>\n",
       "      <th>SEM INFORMAÇÃO</th>\n",
       "    </tr>\n",
       "    <tr>\n",
       "      <th>situacao</th>\n",
       "      <th></th>\n",
       "      <th></th>\n",
       "      <th></th>\n",
       "      <th></th>\n",
       "      <th></th>\n",
       "      <th></th>\n",
       "    </tr>\n",
       "  </thead>\n",
       "  <tbody>\n",
       "    <tr>\n",
       "      <th>ELEITO</th>\n",
       "      <td>0.003046</td>\n",
       "      <td>0.227723</td>\n",
       "      <td>0.004570</td>\n",
       "      <td>0.673267</td>\n",
       "      <td>0.080731</td>\n",
       "      <td>0.010663</td>\n",
       "    </tr>\n",
       "    <tr>\n",
       "      <th>NÃO ELEITO</th>\n",
       "      <td>0.003116</td>\n",
       "      <td>0.186487</td>\n",
       "      <td>0.004862</td>\n",
       "      <td>0.682000</td>\n",
       "      <td>0.108452</td>\n",
       "      <td>0.015084</td>\n",
       "    </tr>\n",
       "  </tbody>\n",
       "</table>\n",
       "</div>"
      ],
      "text/plain": [
       "declar_racial   AMARELA    BRANCA  INDÍGENA     PARDA     PRETA  \\\n",
       "situacao                                                          \n",
       "ELEITO         0.003046  0.227723  0.004570  0.673267  0.080731   \n",
       "NÃO ELEITO     0.003116  0.186487  0.004862  0.682000  0.108452   \n",
       "\n",
       "declar_racial  SEM INFORMAÇÃO  \n",
       "situacao                       \n",
       "ELEITO               0.010663  \n",
       "NÃO ELEITO           0.015084  "
      ]
     },
     "execution_count": 55,
     "metadata": {},
     "output_type": "execute_result"
    }
   ],
   "source": [
    "#Distribuição conjunta da proporção em relação ao total de sobrevivente por declar_racial\n",
    "data_crosstab = pd.crosstab(df['situacao'],\n",
    "                            df['declar_racial'], \n",
    "                               margins = False,\n",
    "                           normalize='index')\n",
    "pd.DataFrame(data_crosstab)"
   ]
  },
  {
   "cell_type": "markdown",
   "id": "0f76aab2",
   "metadata": {},
   "source": [
    "67% dos candidatos eleitos se declaram pardos;\n",
    "\n",
    "68% dos candidatos não eleitos se declaram pardos"
   ]
  },
  {
   "cell_type": "code",
   "execution_count": 56,
   "id": "2c390f9b",
   "metadata": {},
   "outputs": [
    {
     "data": {
      "text/plain": [
       "<AxesSubplot:xlabel='situacao', ylabel='count'>"
      ]
     },
     "execution_count": 56,
     "metadata": {},
     "output_type": "execute_result"
    },
    {
     "data": {
      "image/png": "[encoded data removed]",
      "text/plain": [
       "<Figure size 864x360 with 1 Axes>"
      ]
     },
     "metadata": {},
     "output_type": "display_data"
    }
   ],
   "source": [
    "#Distribuição conjunta da situação por reeleicao\n",
    "\n",
    "plt.figure(figsize=(12,5))\n",
    "sns.set_style('whitegrid')\n",
    "sns.countplot(x='situacao',hue='reeleicao',data=df,palette='Greens')"
   ]
  },
  {
   "cell_type": "code",
   "execution_count": 57,
   "id": "b838f315",
   "metadata": {},
   "outputs": [
    {
     "data": {
      "text/plain": [
       "reeleicao\n",
       "N    8862\n",
       "S     473\n",
       "dtype: int64"
      ]
     },
     "execution_count": 57,
     "metadata": {},
     "output_type": "execute_result"
    }
   ],
   "source": [
    "#Contagem de sobrevivente por reeleicao\n",
    "df.groupby(['reeleicao']).size()"
   ]
  },
  {
   "cell_type": "code",
   "execution_count": 58,
   "id": "bc67f339",
   "metadata": {},
   "outputs": [
    {
     "data": {
      "text/html": [
       "<div>\n",
       "<style scoped>\n",
       "    .dataframe tbody tr th:only-of-type {\n",
       "        vertical-align: middle;\n",
       "    }\n",
       "\n",
       "    .dataframe tbody tr th {\n",
       "        vertical-align: top;\n",
       "    }\n",
       "\n",
       "    .dataframe thead th {\n",
       "        text-align: right;\n",
       "    }\n",
       "</style>\n",
       "<table border=\"1\" class=\"dataframe\">\n",
       "  <thead>\n",
       "    <tr style=\"text-align: right;\">\n",
       "      <th>reeleicao</th>\n",
       "      <th>N</th>\n",
       "      <th>S</th>\n",
       "    </tr>\n",
       "    <tr>\n",
       "      <th>situacao</th>\n",
       "      <th></th>\n",
       "      <th></th>\n",
       "    </tr>\n",
       "  </thead>\n",
       "  <tbody>\n",
       "    <tr>\n",
       "      <th>ELEITO</th>\n",
       "      <td>0.820259</td>\n",
       "      <td>0.179741</td>\n",
       "    </tr>\n",
       "    <tr>\n",
       "      <th>NÃO ELEITO</th>\n",
       "      <td>0.970456</td>\n",
       "      <td>0.029544</td>\n",
       "    </tr>\n",
       "  </tbody>\n",
       "</table>\n",
       "</div>"
      ],
      "text/plain": [
       "reeleicao          N         S\n",
       "situacao                      \n",
       "ELEITO      0.820259  0.179741\n",
       "NÃO ELEITO  0.970456  0.029544"
      ]
     },
     "execution_count": 58,
     "metadata": {},
     "output_type": "execute_result"
    }
   ],
   "source": [
    "#Distribuição conjunta da proporção em relação ao total de sobrevivente por reeleicao\n",
    "data_crosstab = pd.crosstab(df['situacao'],\n",
    "                            df['reeleicao'], \n",
    "                               margins = False,\n",
    "                           normalize='index')\n",
    "pd.DataFrame(data_crosstab)"
   ]
  },
  {
   "cell_type": "markdown",
   "id": "e2d8b7fb",
   "metadata": {},
   "source": [
    "17% dos candidatos eleitos eram candidatos a reeleição;\n",
    "\n",
    "97% dos candidatos não eleitos não eram candidatos a reeleição"
   ]
  },
  {
   "cell_type": "code",
   "execution_count": 59,
   "id": "0d4e596b",
   "metadata": {},
   "outputs": [
    {
     "data": {
      "text/plain": [
       "<AxesSubplot:xlabel='situacao', ylabel='count'>"
      ]
     },
     "execution_count": 59,
     "metadata": {},
     "output_type": "execute_result"
    },
    {
     "data": {
      "image/png": "[encoded data removed]",
      "text/plain": [
       "<Figure size 864x360 with 1 Axes>"
      ]
     },
     "metadata": {},
     "output_type": "display_data"
    }
   ],
   "source": [
    "#Distribuição conjunta da situação por declar_bens\n",
    "\n",
    "plt.figure(figsize=(12,5))\n",
    "sns.set_style('whitegrid')\n",
    "sns.countplot(x='situacao',hue='declar_bens',data=df,palette='Greens')"
   ]
  },
  {
   "cell_type": "code",
   "execution_count": 60,
   "id": "ba1fcbba",
   "metadata": {},
   "outputs": [
    {
     "data": {
      "text/plain": [
       "declar_bens\n",
       "N    1036\n",
       "S    8299\n",
       "dtype: int64"
      ]
     },
     "execution_count": 60,
     "metadata": {},
     "output_type": "execute_result"
    }
   ],
   "source": [
    "#Contagem de sobrevivente por declar_bens\n",
    "df.groupby(['declar_bens']).size()"
   ]
  },
  {
   "cell_type": "code",
   "execution_count": 61,
   "id": "49c4c2ea",
   "metadata": {},
   "outputs": [
    {
     "data": {
      "text/html": [
       "<div>\n",
       "<style scoped>\n",
       "    .dataframe tbody tr th:only-of-type {\n",
       "        vertical-align: middle;\n",
       "    }\n",
       "\n",
       "    .dataframe tbody tr th {\n",
       "        vertical-align: top;\n",
       "    }\n",
       "\n",
       "    .dataframe thead th {\n",
       "        text-align: right;\n",
       "    }\n",
       "</style>\n",
       "<table border=\"1\" class=\"dataframe\">\n",
       "  <thead>\n",
       "    <tr style=\"text-align: right;\">\n",
       "      <th>declar_bens</th>\n",
       "      <th>N</th>\n",
       "      <th>S</th>\n",
       "    </tr>\n",
       "    <tr>\n",
       "      <th>situacao</th>\n",
       "      <th></th>\n",
       "      <th></th>\n",
       "    </tr>\n",
       "  </thead>\n",
       "  <tbody>\n",
       "    <tr>\n",
       "      <th>ELEITO</th>\n",
       "      <td>0.067022</td>\n",
       "      <td>0.932978</td>\n",
       "    </tr>\n",
       "    <tr>\n",
       "      <th>NÃO ELEITO</th>\n",
       "      <td>0.118175</td>\n",
       "      <td>0.881825</td>\n",
       "    </tr>\n",
       "  </tbody>\n",
       "</table>\n",
       "</div>"
      ],
      "text/plain": [
       "declar_bens         N         S\n",
       "situacao                       \n",
       "ELEITO       0.067022  0.932978\n",
       "NÃO ELEITO   0.118175  0.881825"
      ]
     },
     "execution_count": 61,
     "metadata": {},
     "output_type": "execute_result"
    }
   ],
   "source": [
    "#Distribuição conjunta da proporção em relação ao total de sobrevivente por declar_bens\n",
    "data_crosstab = pd.crosstab(df['situacao'],\n",
    "                            df['declar_bens'], \n",
    "                               margins = False,\n",
    "                           normalize='index')\n",
    "pd.DataFrame(data_crosstab)"
   ]
  },
  {
   "cell_type": "markdown",
   "id": "3be776bb",
   "metadata": {},
   "source": [
    "93% dos candidatos eleitos declararam bens;\n",
    "\n",
    "11% dos candidatos não eleitos não declararam bens"
   ]
  },
  {
   "cell_type": "markdown",
   "id": "bf8b85da",
   "metadata": {},
   "source": [
    "##### Sobre as variáveis Categóricas:\n",
    "Somente 7% das mulheres foram eleitas;\n",
    "\n",
    "17% dos homens foram eleitos;\n",
    "\n",
    "39% dos candidatos eleitos possuem ensino médio completo;\n",
    "\n",
    "37% dos candidatos não eleitos possuem ensino médio completo;\n",
    "\n",
    "50% dos candidatos eleitos são casados;\n",
    "\n",
    "52% dos candidatos não eleitos são solteiros;\n",
    "\n",
    "67% dos candidatos eleitos se declaram pardos;\n",
    "\n",
    "68% dos candidatos não eleitos se declaram pardos;\n",
    "\n",
    "17% dos candidatos eleitos eram candidatos a reeleição;\n",
    "\n",
    "97% dos candidatos não eleitos não eram candidatos a reeleição;\n",
    "\n",
    "93% dos candidatos eleitos declararam bens;\n",
    "\n",
    "11% dos candidatos não eleitos não declararam bens;"
   ]
  },
  {
   "cell_type": "markdown",
   "id": "64bc9588",
   "metadata": {},
   "source": [
    "# Pre-Processamento"
   ]
  },
  {
   "cell_type": "code",
   "execution_count": 62,
   "id": "284cb1bb",
   "metadata": {},
   "outputs": [],
   "source": [
    "# Eliminar colunas que não serão utilizadas\n",
    "df = df.drop(labels=['nome_completo'], axis = 1)"
   ]
  },
  {
   "cell_type": "code",
   "execution_count": 65,
   "id": "8f3bcb2b",
   "metadata": {},
   "outputs": [
    {
     "data": {
      "text/plain": [
       "uf_nascimento\n",
       "Estrangeiro       1\n",
       "PA             7150\n",
       "outros         2184\n",
       "dtype: int64"
      ]
     },
     "execution_count": 65,
     "metadata": {},
     "output_type": "execute_result"
    }
   ],
   "source": [
    "# Tratamento da variavel uf_nascimento\n",
    "df.loc[df['uf_nascimento'] == 'PA', 'uf_nascimento'] = 'PA'\n",
    "df.loc[df['uf_nascimento'] == 'AC', 'uf_nascimento'] = 'outros'\n",
    "df.loc[df['uf_nascimento'] == 'AL', 'uf_nascimento'] = 'outros'\n",
    "df.loc[df['uf_nascimento'] == 'RO', 'uf_nascimento'] = 'outros'\n",
    "df.loc[df['uf_nascimento'] == 'AM', 'uf_nascimento'] = 'outros'\n",
    "df.loc[df['uf_nascimento'] == 'AP', 'uf_nascimento'] = 'outros'\n",
    "df.loc[df['uf_nascimento'] == 'BA', 'uf_nascimento'] = 'outros'\n",
    "df.loc[df['uf_nascimento'] == 'CE', 'uf_nascimento'] = 'outros'\n",
    "df.loc[df['uf_nascimento'] == 'DF', 'uf_nascimento'] = 'outros'\n",
    "df.loc[df['uf_nascimento'] == 'ES', 'uf_nascimento'] = 'outros'\n",
    "df.loc[df['uf_nascimento'] == 'GO', 'uf_nascimento'] = 'outros'\n",
    "df.loc[df['uf_nascimento'] == 'MA', 'uf_nascimento'] = 'outros'\n",
    "df.loc[df['uf_nascimento'] == 'MG', 'uf_nascimento'] = 'outros'\n",
    "df.loc[df['uf_nascimento'] == 'MS', 'uf_nascimento'] = 'outros'\n",
    "df.loc[df['uf_nascimento'] == 'MT', 'uf_nascimento'] = 'outros'\n",
    "df.loc[df['uf_nascimento'] == 'PB', 'uf_nascimento'] = 'outros'\n",
    "df.loc[df['uf_nascimento'] == 'PE', 'uf_nascimento'] = 'outros'\n",
    "df.loc[df['uf_nascimento'] == 'PI', 'uf_nascimento'] = 'outros'\n",
    "df.loc[df['uf_nascimento'] == 'PR', 'uf_nascimento'] = 'outros'\n",
    "df.loc[df['uf_nascimento'] == 'RJ', 'uf_nascimento'] = 'outros'\n",
    "df.loc[df['uf_nascimento'] == 'RN', 'uf_nascimento'] = 'outros'\n",
    "df.loc[df['uf_nascimento'] == 'RO', 'uf_nascimento'] = 'outros'\n",
    "df.loc[df['uf_nascimento'] == 'RR', 'uf_nascimento'] = 'outros'\n",
    "df.loc[df['uf_nascimento'] == 'RS', 'uf_nascimento'] = 'outros'\n",
    "df.loc[df['uf_nascimento'] == 'SC', 'uf_nascimento'] = 'outros'\n",
    "df.loc[df['uf_nascimento'] == 'SE', 'uf_nascimento'] = 'outros'\n",
    "df.loc[df['uf_nascimento'] == 'SP', 'uf_nascimento'] = 'outros'\n",
    "df.loc[df['uf_nascimento'] == 'TO', 'uf_nascimento'] = 'outros'\n",
    "df.loc[df['uf_nascimento'] == 'ZZ', 'uf_nascimento'] = 'Estrangeiro'\n",
    "agrupado = df.groupby(['uf_nascimento']).size()\n",
    "agrupado"
   ]
  },
  {
   "cell_type": "markdown",
   "id": "45a43afe",
   "metadata": {},
   "source": [
    "'UF_Nascimento' ficou agora agrupado em 3 grupos: Estrangeiro, PA e outros"
   ]
  },
  {
   "cell_type": "code",
   "execution_count": 67,
   "id": "0b54b67d",
   "metadata": {},
   "outputs": [
    {
     "data": {
      "text/plain": [
       "municipio\n",
       "GRANDE       1254\n",
       "MEDIO        3415\n",
       "MINUSCULA     707\n",
       "PEQUENO      3959\n",
       "dtype: int64"
      ]
     },
     "execution_count": 67,
     "metadata": {},
     "output_type": "execute_result"
    }
   ],
   "source": [
    "#Tratando a variavel municipio\n",
    "df.loc[df['municipio'] == 'BELÉM', 'municipio'] = 'GRANDE'\n",
    "df.loc[df['municipio'] == 'ANANINDEUA', 'municipio'] = 'GRANDE'\n",
    "df.loc[df['municipio'] == 'SANTARÉM', 'municipio'] = 'GRANDE'\n",
    "df.loc[df['municipio'] == 'MARABÁ', 'municipio'] = 'GRANDE'\n",
    "df.loc[df['municipio'] == 'PARAUAPEBAS', 'municipio'] = 'GRANDE'\n",
    "df.loc[df['municipio'] == 'CASTANHAL', 'municipio'] = 'GRANDE'\n",
    "\n",
    "df.loc[df['municipio'] == 'ABAETETUBA', 'municipio'] = 'MEDIO'\n",
    "df.loc[df['municipio'] == 'CAMETÁ', 'municipio'] = 'MEDIO'\n",
    "df.loc[df['municipio'] == 'MARITUBA', 'municipio'] = 'MEDIO'\n",
    "df.loc[df['municipio'] == 'BRAGANÇA', 'municipio'] = 'MEDIO'\n",
    "df.loc[df['municipio'] == 'SÃO FÉLIX DO XINGU', 'municipio'] = 'MEDIO'\n",
    "df.loc[df['municipio'] == 'BARCARENA', 'municipio'] = 'MEDIO'\n",
    "df.loc[df['municipio'] == 'ALTAMIRA', 'municipio'] = 'MEDIO'\n",
    "df.loc[df['municipio'] == 'TUCURUÍ', 'municipio'] = 'MEDIO'\n",
    "df.loc[df['municipio'] == 'PARAGOMINAS', 'municipio'] = 'MEDIO'\n",
    "df.loc[df['municipio'] == 'TAILÂNDIA', 'municipio'] = 'MEDIO'\n",
    "df.loc[df['municipio'] == 'BREVES', 'municipio'] = 'MEDIO'\n",
    "df.loc[df['municipio'] == 'ITAITUBA', 'municipio'] = 'MEDIO'\n",
    "df.loc[df['municipio'] == 'REDENÇÃO', 'municipio'] = 'MEDIO'\n",
    "df.loc[df['municipio'] == 'MOJU', 'municipio'] = 'MEDIO'\n",
    "df.loc[df['municipio'] == 'NOVO REPARTIMENTO', 'municipio'] = 'MEDIO'\n",
    "df.loc[df['municipio'] == 'ORIXIMINÁ', 'municipio'] = 'MEDIO'\n",
    "df.loc[df['municipio'] == 'SANTANA DO ARAGUAIA', 'municipio'] = 'MEDIO'\n",
    "df.loc[df['municipio'] == 'SANTA ISABEL DO PARÁ', 'municipio'] = 'MEDIO'\n",
    "df.loc[df['municipio'] == 'CAPANEMA', 'municipio'] = 'MEDIO'\n",
    "df.loc[df['municipio'] == 'BREU BRANCO', 'municipio'] = 'MEDIO'\n",
    "df.loc[df['municipio'] == 'TOMÉ-AÇU', 'municipio'] = 'MEDIO'\n",
    "df.loc[df['municipio'] == 'IPIXUNA DO PARÁ', 'municipio'] = 'MEDIO'\n",
    "df.loc[df['municipio'] == 'IGARAPÉ-MIRI', 'municipio'] = 'MEDIO'\n",
    "df.loc[df['municipio'] == 'BENEVIDES', 'municipio'] = 'MEDIO'\n",
    "df.loc[df['municipio'] == 'PORTEL', 'municipio'] = 'MEDIO'\n",
    "df.loc[df['municipio'] == 'VISEU', 'municipio'] = 'MEDIO'\n",
    "df.loc[df['municipio'] == 'DOM ELISEU', 'municipio'] = 'MEDIO'\n",
    "df.loc[df['municipio'] == 'JACUNDÁ', 'municipio'] = 'MEDIO'\n",
    "df.loc[df['municipio'] == 'SÃO MIGUEL DO GUAMÁ', 'municipio'] = 'MEDIO'\n",
    "df.loc[df['municipio'] == 'MONTE ALEGRE', 'municipio'] = 'MEDIO'\n",
    "df.loc[df['municipio'] == 'ULIANÓPOLIS', 'municipio'] = 'MEDIO'\n",
    "df.loc[df['municipio'] == 'JURUTI', 'municipio'] = 'MEDIO'\n",
    "df.loc[df['municipio'] == 'ALENQUER', 'municipio'] = 'MEDIO'\n",
    "df.loc[df['municipio'] == 'ACARÁ', 'municipio'] = 'MEDIO'\n",
    "df.loc[df['municipio'] == 'CAPITÃO POÇO', 'municipio'] = 'MEDIO'\n",
    "df.loc[df['municipio'] == 'VIGIA', 'municipio'] = 'MEDIO'\n",
    "df.loc[df['municipio'] == 'ITUPIRANGA', 'municipio'] = 'MEDIO'\n",
    "df.loc[df['municipio'] == 'ÓBIDOS', 'municipio'] = 'MEDIO'\n",
    "df.loc[df['municipio'] == 'RONDON DO PARÁ', 'municipio'] = 'MEDIO'\n",
    "\n",
    "df.loc[df['municipio'] == 'RURÓPOLIS', 'municipio'] = 'PEQUENO'\n",
    "df.loc[df['municipio'] == 'CONCEIÇÃO DO ARAGUAIA', 'municipio'] = 'PEQUENO'\n",
    "df.loc[df['municipio'] == 'PACAJÁ', 'municipio'] = 'PEQUENO'\n",
    "df.loc[df['municipio'] == 'BAIÃO', 'municipio'] = 'PEQUENO'\n",
    "df.loc[df['municipio'] == 'URUARÁ', 'municipio'] = 'PEQUENO'\n",
    "df.loc[df['municipio'] == 'AUGUSTO CORRÊA', 'municipio'] = 'PEQUENO'\n",
    "df.loc[df['municipio'] == 'XINGUARA', 'municipio'] = 'PEQUENO'\n",
    "df.loc[df['municipio'] == 'PORTO DE MOZ', 'municipio'] = 'PEQUENO'\n",
    "df.loc[df['municipio'] == 'SALINÓPOLIS', 'municipio'] = 'PEQUENO'\n",
    "df.loc[df['municipio'] == 'GOIANÉSIA DO PARÁ', 'municipio'] = 'PEQUENO'\n",
    "df.loc[df['municipio'] == 'MUANÁ', 'municipio'] = 'PEQUENO'\n",
    "df.loc[df['municipio'] == 'CURUÇÁ', 'municipio'] = 'PEQUENO'\n",
    "df.loc[df['municipio'] == 'TUCUMÃ', 'municipio'] = 'PEQUENO'\n",
    "df.loc[df['municipio'] == 'AFUÁ', 'municipio'] = 'PEQUENO'\n",
    "df.loc[df['municipio'] == 'IGARAPÉ-AÇU', 'municipio'] = 'PEQUENO'\n",
    "df.loc[df['municipio'] == 'CANAÃ DOS CARAJÁS', 'municipio'] = 'PEQUENO'\n",
    "df.loc[df['municipio'] == 'ALMEIRIM', 'municipio'] = 'PEQUENO'\n",
    "df.loc[df['municipio'] == 'CURRALINHO', 'municipio'] = 'PEQUENO'\n",
    "df.loc[df['municipio'] == 'ELDORADO DOS CARAJÁS', 'municipio'] = 'PEQUENO'\n",
    "df.loc[df['municipio'] == 'CACHOEIRA DO PIRIÁ', 'municipio'] = 'PEQUENO'\n",
    "df.loc[df['municipio'] == 'GURUPÁ', 'municipio'] = 'PEQUENO'\n",
    "df.loc[df['municipio'] == 'CONCÓRDIA DO PARÁ', 'municipio'] = 'PEQUENO'\n",
    "df.loc[df['municipio'] == 'IRITUIA', 'municipio'] = 'PEQUENO'\n",
    "df.loc[df['municipio'] == 'OURILÂNDIA DO NORTE', 'municipio'] = 'PEQUENO'\n",
    "df.loc[df['municipio'] == 'OEIRAS DO PARÁ', 'municipio'] = 'PEQUENO'\n",
    "df.loc[df['municipio'] == 'SÃO DOMINGOS DO CAPIM', 'municipio'] = 'PEQUENO'\n",
    "df.loc[df['municipio'] == 'MEDICILÂNDIA', 'municipio'] = 'PEQUENO'\n",
    "df.loc[df['municipio'] == 'SANTO ANTÔNIO DO TAUÁ', 'municipio'] = 'PEQUENO'\n",
    "df.loc[df['municipio'] == 'AURORA DO PARÁ', 'municipio'] = 'PEQUENO'\n",
    "df.loc[df['municipio'] == 'MOCAJUBA', 'municipio'] = 'PEQUENO'\n",
    "df.loc[df['municipio'] == 'TRACUATEUA', 'municipio'] = 'PEQUENO'\n",
    "df.loc[df['municipio'] == 'PONTA DE PEDRAS', 'municipio'] = 'PEQUENO'\n",
    "df.loc[df['municipio'] == 'PLACAS', 'municipio'] = 'PEQUENO'\n",
    "df.loc[df['municipio'] == 'BAGRE', 'municipio'] = 'PEQUENO'\n",
    "df.loc[df['municipio'] == 'MÃE DO RIO', 'municipio'] = 'PEQUENO'\n",
    "df.loc[df['municipio'] == 'PRAINHA', 'municipio'] = 'PEQUENO'\n",
    "df.loc[df['municipio'] == 'MARACANÃ', 'municipio'] = 'PEQUENO'\n",
    "df.loc[df['municipio'] == 'ANAJÁS', 'municipio'] = 'PEQUENO'\n",
    "df.loc[df['municipio'] == 'BUJARU', 'municipio'] = 'PEQUENO'\n",
    "df.loc[df['municipio'] == 'LIMOEIRO DO AJURU', 'municipio'] = 'PEQUENO'\n",
    "df.loc[df['municipio'] == 'MARAPANIM', 'municipio'] = 'PEQUENO'\n",
    "df.loc[df['municipio'] == 'MELGAÇO', 'municipio'] = 'PEQUENO'\n",
    "df.loc[df['municipio'] == 'ÁGUA AZUL DO NORTE', 'municipio'] = 'PEQUENO'\n",
    "df.loc[df['municipio'] == 'ANAPU', 'municipio'] = 'PEQUENO'\n",
    "df.loc[df['municipio'] == 'SÃO SEBASTIÃO DA BOA VISTA', 'municipio'] = 'PEQUENO'\n",
    "df.loc[df['municipio'] == 'GARRAFÃO DO NORTE', 'municipio'] = 'PEQUENO'\n",
    "df.loc[df['municipio'] == 'NOVO PROGRESSO', 'municipio'] = 'PEQUENO'\n",
    "df.loc[df['municipio'] == 'SÃO DOMINGOS DO ARAGUAIA', 'municipio'] = 'PEQUENO'\n",
    "df.loc[df['municipio'] == 'SOURE', 'municipio'] = 'PEQUENO'\n",
    "df.loc[df['municipio'] == 'SÃO GERALDO DO ARAGUAIA', 'municipio'] = 'PEQUENO'\n",
    "df.loc[df['municipio'] == 'SANTA MARIA DO PARÁ', 'municipio'] = 'PEQUENO'\n",
    "df.loc[df['municipio'] == 'CHAVES', 'municipio'] = 'PEQUENO'\n",
    "df.loc[df['municipio'] == 'CACHOEIRA DO ARARI', 'municipio'] = 'PEQUENO'\n",
    "df.loc[df['municipio'] == 'SALVATERRA', 'municipio'] = 'PEQUENO'\n",
    "df.loc[df['municipio'] == 'SÃO JOÃO DE PIRABAS', 'municipio'] = 'PEQUENO'\n",
    "df.loc[df['municipio'] == 'NOVA ESPERANÇA DO PIRIÁ', 'municipio'] = 'PEQUENO'\n",
    "df.loc[df['municipio'] == 'SANTA MARIA DAS BARREIRAS', 'municipio'] = 'PEQUENO'\n",
    "df.loc[df['municipio'] == 'SANTA BÁRBARA DO PARÁ', 'municipio'] = 'PEQUENO'\n",
    "df.loc[df['municipio'] == 'FLORESTA DO ARAGUAIA', 'municipio'] = 'PEQUENO'\n",
    "df.loc[df['municipio'] == 'SANTA LUZIA DO PARÁ', 'municipio'] = 'PEQUENO'\n",
    "df.loc[df['municipio'] == 'TRAIRÃO', 'municipio'] = 'PEQUENO'\n",
    "df.loc[df['municipio'] == 'TERRA SANTA', 'municipio'] = 'PEQUENO'\n",
    "df.loc[df['municipio'] == 'RIO MARIA', 'municipio'] = 'PEQUENO'\n",
    "df.loc[df['municipio'] == 'SÃO CAETANO DE ODIVELAS', 'municipio'] = 'PEQUENO'\n",
    "df.loc[df['municipio'] == 'CURIONÓPOLIS', 'municipio'] = 'PEQUENO'\n",
    "df.loc[df['municipio'] == 'OURÉM', 'municipio'] = 'PEQUENO'\n",
    "df.loc[df['municipio'] == 'BELTERRA', 'municipio'] = 'PEQUENO'\n",
    "df.loc[df['municipio'] == 'BOM JESUS DO TOCANTINS', 'municipio'] = 'PEQUENO'\n",
    "df.loc[df['municipio'] == 'NOVA IPIXUNA', 'municipio'] = 'PEQUENO'\n",
    "df.loc[df['municipio'] == 'AVEIRO', 'municipio'] = 'PEQUENO'\n",
    "df.loc[df['municipio'] == 'BONITO', 'municipio'] = 'PEQUENO'\n",
    "df.loc[df['municipio'] == 'MOJUÍ DOS CAMPOS', 'municipio'] = 'PEQUENO'\n",
    "df.loc[df['municipio'] == 'SÃO FRANCISCO DO PARÁ', 'municipio'] = 'PEQUENO'\n",
    "df.loc[df['municipio'] == 'NOVA TIMBOTEUA', 'municipio'] = 'PEQUENO'\n",
    "df.loc[df['municipio'] == 'BRASIL NOVO', 'municipio'] = 'PEQUENO'\n",
    "\n",
    "df.loc[df['municipio'] == 'VITÓRIA DO XINGU', 'municipio'] = 'MINUSCULA'\n",
    "df.loc[df['municipio'] == 'CURUÁ', 'municipio'] = 'MINUSCULA'\n",
    "df.loc[df['municipio'] == 'SÃO JOÃO DO ARAGUAIA', 'municipio'] = 'MINUSCULA'\n",
    "df.loc[df['municipio'] == 'QUATIPURU', 'municipio'] = 'MINUSCULA'\n",
    "df.loc[df['municipio'] == 'CUMARU DO NORTE', 'municipio'] = 'MINUSCULA'\n",
    "df.loc[df['municipio'] == 'PIÇARRA', 'municipio'] = 'MINUSCULA'\n",
    "df.loc[df['municipio'] == 'COLARES', 'municipio'] = 'MINUSCULA'\n",
    "df.loc[df['municipio'] == 'SENADOR JOSÉ PORFÍRIO', 'municipio'] = 'MINUSCULA'\n",
    "df.loc[df['municipio'] == 'TERRA ALTA', 'municipio'] = 'MINUSCULA'\n",
    "df.loc[df['municipio'] == 'INHANGAPI', 'municipio'] = 'MINUSCULA'\n",
    "df.loc[df['municipio'] == 'PRIMAVERA', 'municipio'] = 'MINUSCULA'\n",
    "df.loc[df['municipio'] == 'SANTA CRUZ DO ARARI', 'municipio'] = 'MINUSCULA'\n",
    "df.loc[df['municipio'] == 'JACAREACANGA', 'municipio'] = 'MINUSCULA'\n",
    "df.loc[df['municipio'] == 'MAGALHÃES BARATA', 'municipio'] = 'MINUSCULA'\n",
    "df.loc[df['municipio'] == 'PEIXE-BOI', 'municipio'] = 'MINUSCULA'\n",
    "df.loc[df['municipio'] == 'PALESTINA DO PARÁ', 'municipio'] = 'MINUSCULA'\n",
    "df.loc[df['municipio'] == 'BREJO GRANDE DO ARAGUAIA', 'municipio'] = 'MINUSCULA'\n",
    "df.loc[df['municipio'] == 'ABEL FIGUEIREDO', 'municipio'] = 'MINUSCULA'\n",
    "df.loc[df['municipio'] == 'FARO', 'municipio'] = 'MINUSCULA'\n",
    "df.loc[df['municipio'] == 'SANTARÉM NOVO', 'municipio'] = 'MINUSCULA'\n",
    "df.loc[df['municipio'] == 'SÃO JOÃO DA PONTA', 'municipio'] = 'MINUSCULA'\n",
    "df.loc[df['municipio'] == 'SAPUCAIA', 'municipio'] = 'MINUSCULA'\n",
    "df.loc[df['municipio'] == 'BANNACH', 'municipio'] = 'MINUSCULA'\n",
    "df.loc[df['municipio'] == 'PAU D ARCO', 'municipio'] = 'MINUSCULA'\n",
    "\n",
    "agrupado2 = df.groupby(['municipio']).size()\n",
    "agrupado2"
   ]
  },
  {
   "cell_type": "markdown",
   "id": "0118cd38",
   "metadata": {},
   "source": [
    "#### Municipio foi agrupado em GRANDE, MEDIO, MINUSCULO E PEQUENO de acordo com as populações em 'https://pt.wikipedia.org/wiki/Lista_de_munic%C3%ADpios_do_Par%C3%A1_por_popula%C3%A7%C3%A3o'"
   ]
  },
  {
   "cell_type": "code",
   "execution_count": 68,
   "id": "9c98572a",
   "metadata": {},
   "outputs": [
    {
     "data": {
      "text/plain": [
       "partido\n",
       "GRANDE     4151\n",
       "MEDIO      5031\n",
       "PEQUENO     153\n",
       "dtype: int64"
      ]
     },
     "execution_count": 68,
     "metadata": {},
     "output_type": "execute_result"
    }
   ],
   "source": [
    "# Transformar a variável partido\n",
    "\n",
    "df.loc[df['partido'] == 'MDB', 'partido'] = 'GRANDE'\n",
    "df.loc[df['partido'] == 'PT', 'partido'] = 'GRANDE'\n",
    "df.loc[df['partido'] == 'PSDB', 'partido'] = 'GRANDE'\n",
    "df.loc[df['partido'] == 'PP', 'partido'] = 'GRANDE'\n",
    "df.loc[df['partido'] == 'PDT', 'partido'] = 'GRANDE'\n",
    "df.loc[df['partido'] == 'PTB', 'partido'] = 'GRANDE'\n",
    "df.loc[df['partido'] == 'DEM', 'partido'] = 'GRANDE'\n",
    "\n",
    "df.loc[df['partido'] == 'PL', 'partido'] = 'MEDIO'\n",
    "df.loc[df['partido'] == 'PSB', 'partido'] = 'MEDIO'\n",
    "df.loc[df['partido'] == 'REPUBLICANOS', 'partido'] = 'MEDIO'\n",
    "df.loc[df['partido'] == 'CIDADANIA', 'partido'] = 'MEDIO'\n",
    "df.loc[df['partido'] == 'PSC', 'partido'] = 'MEDIO'\n",
    "df.loc[df['partido'] == 'PODE', 'partido'] = 'MEDIO'\n",
    "df.loc[df['partido'] == 'PC do B', 'partido'] = 'MEDIO'\n",
    "df.loc[df['partido'] == 'PSD', 'partido'] = 'MEDIO'\n",
    "df.loc[df['partido'] == 'PV', 'partido'] = 'MEDIO'\n",
    "df.loc[df['partido'] == 'PATRIOTA', 'partido'] = 'MEDIO'\n",
    "df.loc[df['partido'] == 'SOLIDARIEDADE', 'partido'] = 'MEDIO'\n",
    "df.loc[df['partido'] == 'PSOL', 'partido'] = 'MEDIO'\n",
    "df.loc[df['partido'] == 'AVANTE', 'partido'] = 'MEDIO'\n",
    "df.loc[df['partido'] == 'PMN', 'partido'] = 'MEDIO'\n",
    "df.loc[df['partido'] == 'PTC', 'partido'] = 'MEDIO'\n",
    "df.loc[df['partido'] == 'DC', 'partido'] = 'MEDIO'\n",
    "df.loc[df['partido'] == 'PRTB', 'partido'] = 'MEDIO'\n",
    "df.loc[df['partido'] == 'PROS', 'partido'] = 'MEDIO'\n",
    "\n",
    "df.loc[df['partido'] == 'PSL', 'partido'] = 'PEQUENO'\n",
    "df.loc[df['partido'] == 'PMB', 'partido'] = 'PEQUENO'\n",
    "df.loc[df['partido'] == 'NOVO', 'partido'] = 'PEQUENO'\n",
    "df.loc[df['partido'] == 'REDE', 'partido'] = 'PEQUENO'\n",
    "df.loc[df['partido'] == 'PSTU', 'partido'] = 'PEQUENO'\n",
    "df.loc[df['partido'] == 'PCB', 'partido'] = 'PEQUENO'\n",
    "df.loc[df['partido'] == 'PCO', 'partido'] = 'PEQUENO'\n",
    "df.loc[df['partido'] == 'UP', 'partido'] = 'PEQUENO'\n",
    "\n",
    "agrupado3 = df.groupby(['partido']).size()\n",
    "agrupado3"
   ]
  },
  {
   "cell_type": "markdown",
   "id": "971fc2f7",
   "metadata": {},
   "source": [
    "#### Partido foi agrupado em 3 grupos: GRANDE, MEDIO, PEQUENO de acordo com o número de afiliados em 'https://pt.wikipedia.org/wiki/Lista_de_partidos_pol%C3%ADticos_do_Brasil'"
   ]
  },
  {
   "cell_type": "code",
   "execution_count": 69,
   "id": "3afada1e",
   "metadata": {},
   "outputs": [
    {
     "data": {
      "text/html": [
       "<div>\n",
       "<style scoped>\n",
       "    .dataframe tbody tr th:only-of-type {\n",
       "        vertical-align: middle;\n",
       "    }\n",
       "\n",
       "    .dataframe tbody tr th {\n",
       "        vertical-align: top;\n",
       "    }\n",
       "\n",
       "    .dataframe thead th {\n",
       "        text-align: right;\n",
       "    }\n",
       "</style>\n",
       "<table border=\"1\" class=\"dataframe\">\n",
       "  <thead>\n",
       "    <tr style=\"text-align: right;\">\n",
       "      <th></th>\n",
       "      <th>idade_posse</th>\n",
       "      <th>valor_total_declarado</th>\n",
       "      <th>municipio</th>\n",
       "      <th>partido</th>\n",
       "      <th>uf_nascimento</th>\n",
       "      <th>genero</th>\n",
       "      <th>grau_instrucao</th>\n",
       "      <th>estado_civil</th>\n",
       "      <th>declar_racial</th>\n",
       "      <th>reeleicao</th>\n",
       "      <th>declar_bens</th>\n",
       "      <th>situacao</th>\n",
       "    </tr>\n",
       "  </thead>\n",
       "  <tbody>\n",
       "    <tr>\n",
       "      <th>0</th>\n",
       "      <td>33</td>\n",
       "      <td>1285.00</td>\n",
       "      <td>MEDIO</td>\n",
       "      <td>MEDIO</td>\n",
       "      <td>PA</td>\n",
       "      <td>FEMININO</td>\n",
       "      <td>ENSINO MÉDIO COMPLETO</td>\n",
       "      <td>CASADO(A)</td>\n",
       "      <td>BRANCA</td>\n",
       "      <td>N</td>\n",
       "      <td>S</td>\n",
       "      <td>NÃO ELEITO</td>\n",
       "    </tr>\n",
       "    <tr>\n",
       "      <th>1</th>\n",
       "      <td>37</td>\n",
       "      <td>2692.70</td>\n",
       "      <td>MEDIO</td>\n",
       "      <td>GRANDE</td>\n",
       "      <td>outros</td>\n",
       "      <td>MASCULINO</td>\n",
       "      <td>SUPERIOR COMPLETO</td>\n",
       "      <td>CASADO(A)</td>\n",
       "      <td>PARDA</td>\n",
       "      <td>N</td>\n",
       "      <td>S</td>\n",
       "      <td>NÃO ELEITO</td>\n",
       "    </tr>\n",
       "    <tr>\n",
       "      <th>2</th>\n",
       "      <td>31</td>\n",
       "      <td>4528.68</td>\n",
       "      <td>GRANDE</td>\n",
       "      <td>MEDIO</td>\n",
       "      <td>PA</td>\n",
       "      <td>FEMININO</td>\n",
       "      <td>SUPERIOR COMPLETO</td>\n",
       "      <td>CASADO(A)</td>\n",
       "      <td>BRANCA</td>\n",
       "      <td>N</td>\n",
       "      <td>S</td>\n",
       "      <td>NÃO ELEITO</td>\n",
       "    </tr>\n",
       "    <tr>\n",
       "      <th>3</th>\n",
       "      <td>31</td>\n",
       "      <td>1943.72</td>\n",
       "      <td>MEDIO</td>\n",
       "      <td>GRANDE</td>\n",
       "      <td>PA</td>\n",
       "      <td>MASCULINO</td>\n",
       "      <td>ENSINO MÉDIO COMPLETO</td>\n",
       "      <td>SOLTEIRO(A)</td>\n",
       "      <td>PARDA</td>\n",
       "      <td>N</td>\n",
       "      <td>N</td>\n",
       "      <td>NÃO ELEITO</td>\n",
       "    </tr>\n",
       "    <tr>\n",
       "      <th>4</th>\n",
       "      <td>32</td>\n",
       "      <td>600.00</td>\n",
       "      <td>MEDIO</td>\n",
       "      <td>MEDIO</td>\n",
       "      <td>PA</td>\n",
       "      <td>MASCULINO</td>\n",
       "      <td>SUPERIOR COMPLETO</td>\n",
       "      <td>SOLTEIRO(A)</td>\n",
       "      <td>PARDA</td>\n",
       "      <td>N</td>\n",
       "      <td>N</td>\n",
       "      <td>NÃO ELEITO</td>\n",
       "    </tr>\n",
       "    <tr>\n",
       "      <th>...</th>\n",
       "      <td>...</td>\n",
       "      <td>...</td>\n",
       "      <td>...</td>\n",
       "      <td>...</td>\n",
       "      <td>...</td>\n",
       "      <td>...</td>\n",
       "      <td>...</td>\n",
       "      <td>...</td>\n",
       "      <td>...</td>\n",
       "      <td>...</td>\n",
       "      <td>...</td>\n",
       "      <td>...</td>\n",
       "    </tr>\n",
       "    <tr>\n",
       "      <th>9330</th>\n",
       "      <td>36</td>\n",
       "      <td>4400.00</td>\n",
       "      <td>MINUSCULA</td>\n",
       "      <td>GRANDE</td>\n",
       "      <td>PA</td>\n",
       "      <td>MASCULINO</td>\n",
       "      <td>ENSINO MÉDIO COMPLETO</td>\n",
       "      <td>CASADO(A)</td>\n",
       "      <td>SEM INFORMAÇÃO</td>\n",
       "      <td>N</td>\n",
       "      <td>S</td>\n",
       "      <td>NÃO ELEITO</td>\n",
       "    </tr>\n",
       "    <tr>\n",
       "      <th>9331</th>\n",
       "      <td>31</td>\n",
       "      <td>10114.45</td>\n",
       "      <td>MEDIO</td>\n",
       "      <td>MEDIO</td>\n",
       "      <td>PA</td>\n",
       "      <td>FEMININO</td>\n",
       "      <td>ENSINO MÉDIO COMPLETO</td>\n",
       "      <td>SOLTEIRO(A)</td>\n",
       "      <td>PARDA</td>\n",
       "      <td>N</td>\n",
       "      <td>S</td>\n",
       "      <td>NÃO ELEITO</td>\n",
       "    </tr>\n",
       "    <tr>\n",
       "      <th>9332</th>\n",
       "      <td>33</td>\n",
       "      <td>1500.00</td>\n",
       "      <td>PEQUENO</td>\n",
       "      <td>GRANDE</td>\n",
       "      <td>PA</td>\n",
       "      <td>FEMININO</td>\n",
       "      <td>ENSINO MÉDIO COMPLETO</td>\n",
       "      <td>CASADO(A)</td>\n",
       "      <td>PARDA</td>\n",
       "      <td>N</td>\n",
       "      <td>S</td>\n",
       "      <td>NÃO ELEITO</td>\n",
       "    </tr>\n",
       "    <tr>\n",
       "      <th>9333</th>\n",
       "      <td>33</td>\n",
       "      <td>1100.00</td>\n",
       "      <td>MEDIO</td>\n",
       "      <td>MEDIO</td>\n",
       "      <td>PA</td>\n",
       "      <td>FEMININO</td>\n",
       "      <td>SUPERIOR COMPLETO</td>\n",
       "      <td>CASADO(A)</td>\n",
       "      <td>BRANCA</td>\n",
       "      <td>S</td>\n",
       "      <td>S</td>\n",
       "      <td>ELEITO</td>\n",
       "    </tr>\n",
       "    <tr>\n",
       "      <th>9334</th>\n",
       "      <td>41</td>\n",
       "      <td>472.00</td>\n",
       "      <td>MEDIO</td>\n",
       "      <td>GRANDE</td>\n",
       "      <td>PA</td>\n",
       "      <td>FEMININO</td>\n",
       "      <td>ENSINO MÉDIO COMPLETO</td>\n",
       "      <td>SOLTEIRO(A)</td>\n",
       "      <td>PARDA</td>\n",
       "      <td>N</td>\n",
       "      <td>N</td>\n",
       "      <td>NÃO ELEITO</td>\n",
       "    </tr>\n",
       "  </tbody>\n",
       "</table>\n",
       "<p>9335 rows × 12 columns</p>\n",
       "</div>"
      ],
      "text/plain": [
       "      idade_posse  valor_total_declarado  municipio partido uf_nascimento  \\\n",
       "0              33                1285.00      MEDIO   MEDIO            PA   \n",
       "1              37                2692.70      MEDIO  GRANDE        outros   \n",
       "2              31                4528.68     GRANDE   MEDIO            PA   \n",
       "3              31                1943.72      MEDIO  GRANDE            PA   \n",
       "4              32                 600.00      MEDIO   MEDIO            PA   \n",
       "...           ...                    ...        ...     ...           ...   \n",
       "9330           36                4400.00  MINUSCULA  GRANDE            PA   \n",
       "9331           31               10114.45      MEDIO   MEDIO            PA   \n",
       "9332           33                1500.00    PEQUENO  GRANDE            PA   \n",
       "9333           33                1100.00      MEDIO   MEDIO            PA   \n",
       "9334           41                 472.00      MEDIO  GRANDE            PA   \n",
       "\n",
       "         genero         grau_instrucao estado_civil   declar_racial reeleicao  \\\n",
       "0      FEMININO  ENSINO MÉDIO COMPLETO    CASADO(A)          BRANCA         N   \n",
       "1     MASCULINO      SUPERIOR COMPLETO    CASADO(A)           PARDA         N   \n",
       "2      FEMININO      SUPERIOR COMPLETO    CASADO(A)          BRANCA         N   \n",
       "3     MASCULINO  ENSINO MÉDIO COMPLETO  SOLTEIRO(A)           PARDA         N   \n",
       "4     MASCULINO      SUPERIOR COMPLETO  SOLTEIRO(A)           PARDA         N   \n",
       "...         ...                    ...          ...             ...       ...   \n",
       "9330  MASCULINO  ENSINO MÉDIO COMPLETO    CASADO(A)  SEM INFORMAÇÃO         N   \n",
       "9331   FEMININO  ENSINO MÉDIO COMPLETO  SOLTEIRO(A)           PARDA         N   \n",
       "9332   FEMININO  ENSINO MÉDIO COMPLETO    CASADO(A)           PARDA         N   \n",
       "9333   FEMININO      SUPERIOR COMPLETO    CASADO(A)          BRANCA         S   \n",
       "9334   FEMININO  ENSINO MÉDIO COMPLETO  SOLTEIRO(A)           PARDA         N   \n",
       "\n",
       "     declar_bens    situacao  \n",
       "0              S  NÃO ELEITO  \n",
       "1              S  NÃO ELEITO  \n",
       "2              S  NÃO ELEITO  \n",
       "3              N  NÃO ELEITO  \n",
       "4              N  NÃO ELEITO  \n",
       "...          ...         ...  \n",
       "9330           S  NÃO ELEITO  \n",
       "9331           S  NÃO ELEITO  \n",
       "9332           S  NÃO ELEITO  \n",
       "9333           S      ELEITO  \n",
       "9334           N  NÃO ELEITO  \n",
       "\n",
       "[9335 rows x 12 columns]"
      ]
     },
     "metadata": {},
     "output_type": "display_data"
    }
   ],
   "source": [
    "#Visualziar os dados transformados\n",
    "display(df)"
   ]
  },
  {
   "cell_type": "code",
   "execution_count": 70,
   "id": "96587ffd",
   "metadata": {},
   "outputs": [
    {
     "data": {
      "text/html": [
       "<div>\n",
       "<style scoped>\n",
       "    .dataframe tbody tr th:only-of-type {\n",
       "        vertical-align: middle;\n",
       "    }\n",
       "\n",
       "    .dataframe tbody tr th {\n",
       "        vertical-align: top;\n",
       "    }\n",
       "\n",
       "    .dataframe thead th {\n",
       "        text-align: right;\n",
       "    }\n",
       "</style>\n",
       "<table border=\"1\" class=\"dataframe\">\n",
       "  <thead>\n",
       "    <tr style=\"text-align: right;\">\n",
       "      <th></th>\n",
       "      <th>idade_posse</th>\n",
       "      <th>valor_total_declarado</th>\n",
       "      <th>municipio</th>\n",
       "      <th>partido</th>\n",
       "      <th>uf_nascimento</th>\n",
       "      <th>genero</th>\n",
       "      <th>grau_instrucao</th>\n",
       "      <th>estado_civil</th>\n",
       "      <th>declar_racial</th>\n",
       "      <th>reeleicao</th>\n",
       "      <th>declar_bens</th>\n",
       "      <th>situacao</th>\n",
       "    </tr>\n",
       "  </thead>\n",
       "  <tbody>\n",
       "    <tr>\n",
       "      <th>0</th>\n",
       "      <td>33</td>\n",
       "      <td>1285.00</td>\n",
       "      <td>1</td>\n",
       "      <td>1</td>\n",
       "      <td>1</td>\n",
       "      <td>0</td>\n",
       "      <td>2</td>\n",
       "      <td>0</td>\n",
       "      <td>1</td>\n",
       "      <td>0</td>\n",
       "      <td>1</td>\n",
       "      <td>1</td>\n",
       "    </tr>\n",
       "    <tr>\n",
       "      <th>1</th>\n",
       "      <td>37</td>\n",
       "      <td>2692.70</td>\n",
       "      <td>1</td>\n",
       "      <td>0</td>\n",
       "      <td>2</td>\n",
       "      <td>1</td>\n",
       "      <td>5</td>\n",
       "      <td>0</td>\n",
       "      <td>3</td>\n",
       "      <td>0</td>\n",
       "      <td>1</td>\n",
       "      <td>1</td>\n",
       "    </tr>\n",
       "    <tr>\n",
       "      <th>2</th>\n",
       "      <td>31</td>\n",
       "      <td>4528.68</td>\n",
       "      <td>0</td>\n",
       "      <td>1</td>\n",
       "      <td>1</td>\n",
       "      <td>0</td>\n",
       "      <td>5</td>\n",
       "      <td>0</td>\n",
       "      <td>1</td>\n",
       "      <td>0</td>\n",
       "      <td>1</td>\n",
       "      <td>1</td>\n",
       "    </tr>\n",
       "    <tr>\n",
       "      <th>3</th>\n",
       "      <td>31</td>\n",
       "      <td>1943.72</td>\n",
       "      <td>1</td>\n",
       "      <td>0</td>\n",
       "      <td>1</td>\n",
       "      <td>1</td>\n",
       "      <td>2</td>\n",
       "      <td>3</td>\n",
       "      <td>3</td>\n",
       "      <td>0</td>\n",
       "      <td>0</td>\n",
       "      <td>1</td>\n",
       "    </tr>\n",
       "    <tr>\n",
       "      <th>4</th>\n",
       "      <td>32</td>\n",
       "      <td>600.00</td>\n",
       "      <td>1</td>\n",
       "      <td>1</td>\n",
       "      <td>1</td>\n",
       "      <td>1</td>\n",
       "      <td>5</td>\n",
       "      <td>3</td>\n",
       "      <td>3</td>\n",
       "      <td>0</td>\n",
       "      <td>0</td>\n",
       "      <td>1</td>\n",
       "    </tr>\n",
       "    <tr>\n",
       "      <th>...</th>\n",
       "      <td>...</td>\n",
       "      <td>...</td>\n",
       "      <td>...</td>\n",
       "      <td>...</td>\n",
       "      <td>...</td>\n",
       "      <td>...</td>\n",
       "      <td>...</td>\n",
       "      <td>...</td>\n",
       "      <td>...</td>\n",
       "      <td>...</td>\n",
       "      <td>...</td>\n",
       "      <td>...</td>\n",
       "    </tr>\n",
       "    <tr>\n",
       "      <th>9330</th>\n",
       "      <td>36</td>\n",
       "      <td>4400.00</td>\n",
       "      <td>2</td>\n",
       "      <td>0</td>\n",
       "      <td>1</td>\n",
       "      <td>1</td>\n",
       "      <td>2</td>\n",
       "      <td>0</td>\n",
       "      <td>5</td>\n",
       "      <td>0</td>\n",
       "      <td>1</td>\n",
       "      <td>1</td>\n",
       "    </tr>\n",
       "    <tr>\n",
       "      <th>9331</th>\n",
       "      <td>31</td>\n",
       "      <td>10114.45</td>\n",
       "      <td>1</td>\n",
       "      <td>1</td>\n",
       "      <td>1</td>\n",
       "      <td>0</td>\n",
       "      <td>2</td>\n",
       "      <td>3</td>\n",
       "      <td>3</td>\n",
       "      <td>0</td>\n",
       "      <td>1</td>\n",
       "      <td>1</td>\n",
       "    </tr>\n",
       "    <tr>\n",
       "      <th>9332</th>\n",
       "      <td>33</td>\n",
       "      <td>1500.00</td>\n",
       "      <td>3</td>\n",
       "      <td>0</td>\n",
       "      <td>1</td>\n",
       "      <td>0</td>\n",
       "      <td>2</td>\n",
       "      <td>0</td>\n",
       "      <td>3</td>\n",
       "      <td>0</td>\n",
       "      <td>1</td>\n",
       "      <td>1</td>\n",
       "    </tr>\n",
       "    <tr>\n",
       "      <th>9333</th>\n",
       "      <td>33</td>\n",
       "      <td>1100.00</td>\n",
       "      <td>1</td>\n",
       "      <td>1</td>\n",
       "      <td>1</td>\n",
       "      <td>0</td>\n",
       "      <td>5</td>\n",
       "      <td>0</td>\n",
       "      <td>1</td>\n",
       "      <td>1</td>\n",
       "      <td>1</td>\n",
       "      <td>0</td>\n",
       "    </tr>\n",
       "    <tr>\n",
       "      <th>9334</th>\n",
       "      <td>41</td>\n",
       "      <td>472.00</td>\n",
       "      <td>1</td>\n",
       "      <td>0</td>\n",
       "      <td>1</td>\n",
       "      <td>0</td>\n",
       "      <td>2</td>\n",
       "      <td>3</td>\n",
       "      <td>3</td>\n",
       "      <td>0</td>\n",
       "      <td>0</td>\n",
       "      <td>1</td>\n",
       "    </tr>\n",
       "  </tbody>\n",
       "</table>\n",
       "<p>9335 rows × 12 columns</p>\n",
       "</div>"
      ],
      "text/plain": [
       "      idade_posse  valor_total_declarado  municipio  partido  uf_nascimento  \\\n",
       "0              33                1285.00          1        1              1   \n",
       "1              37                2692.70          1        0              2   \n",
       "2              31                4528.68          0        1              1   \n",
       "3              31                1943.72          1        0              1   \n",
       "4              32                 600.00          1        1              1   \n",
       "...           ...                    ...        ...      ...            ...   \n",
       "9330           36                4400.00          2        0              1   \n",
       "9331           31               10114.45          1        1              1   \n",
       "9332           33                1500.00          3        0              1   \n",
       "9333           33                1100.00          1        1              1   \n",
       "9334           41                 472.00          1        0              1   \n",
       "\n",
       "      genero  grau_instrucao  estado_civil  declar_racial  reeleicao  \\\n",
       "0          0               2             0              1          0   \n",
       "1          1               5             0              3          0   \n",
       "2          0               5             0              1          0   \n",
       "3          1               2             3              3          0   \n",
       "4          1               5             3              3          0   \n",
       "...      ...             ...           ...            ...        ...   \n",
       "9330       1               2             0              5          0   \n",
       "9331       0               2             3              3          0   \n",
       "9332       0               2             0              3          0   \n",
       "9333       0               5             0              1          1   \n",
       "9334       0               2             3              3          0   \n",
       "\n",
       "      declar_bens  situacao  \n",
       "0               1         1  \n",
       "1               1         1  \n",
       "2               1         1  \n",
       "3               0         1  \n",
       "4               0         1  \n",
       "...           ...       ...  \n",
       "9330            1         1  \n",
       "9331            1         1  \n",
       "9332            1         1  \n",
       "9333            1         0  \n",
       "9334            0         1  \n",
       "\n",
       "[9335 rows x 12 columns]"
      ]
     },
     "metadata": {},
     "output_type": "display_data"
    }
   ],
   "source": [
    "#Label Encoder\n",
    "from sklearn.preprocessing import LabelEncoder\n",
    "\n",
    "labelencoder = LabelEncoder()\n",
    "\n",
    "df['municipio'] = labelencoder.fit_transform(df['municipio'])\n",
    "df['partido'] = labelencoder.fit_transform(df['partido'])\n",
    "df['uf_nascimento'] = labelencoder.fit_transform(df['uf_nascimento'])\n",
    "df['genero'] = labelencoder.fit_transform(df['genero'])\n",
    "df['grau_instrucao'] = labelencoder.fit_transform(df['grau_instrucao'])\n",
    "df['estado_civil'] = labelencoder.fit_transform(df['estado_civil'])\n",
    "df['declar_racial'] = labelencoder.fit_transform(df['declar_racial'])\n",
    "df['reeleicao'] = labelencoder.fit_transform(df['reeleicao'])\n",
    "df['declar_bens'] = labelencoder.fit_transform(df['declar_bens'])\n",
    "df['situacao'] = labelencoder.fit_transform(df['situacao'])\n",
    "display(df)"
   ]
  },
  {
   "cell_type": "code",
   "execution_count": 71,
   "id": "c404062f",
   "metadata": {},
   "outputs": [
    {
     "data": {
      "text/html": [
       "<div>\n",
       "<style scoped>\n",
       "    .dataframe tbody tr th:only-of-type {\n",
       "        vertical-align: middle;\n",
       "    }\n",
       "\n",
       "    .dataframe tbody tr th {\n",
       "        vertical-align: top;\n",
       "    }\n",
       "\n",
       "    .dataframe thead th {\n",
       "        text-align: right;\n",
       "    }\n",
       "</style>\n",
       "<table border=\"1\" class=\"dataframe\">\n",
       "  <thead>\n",
       "    <tr style=\"text-align: right;\">\n",
       "      <th></th>\n",
       "      <th>idade_posse</th>\n",
       "      <th>valor_total_declarado</th>\n",
       "      <th>municipio</th>\n",
       "      <th>partido</th>\n",
       "      <th>uf_nascimento</th>\n",
       "      <th>genero</th>\n",
       "      <th>grau_instrucao</th>\n",
       "      <th>estado_civil</th>\n",
       "      <th>declar_racial</th>\n",
       "      <th>reeleicao</th>\n",
       "      <th>declar_bens</th>\n",
       "      <th>situacao</th>\n",
       "    </tr>\n",
       "  </thead>\n",
       "  <tbody>\n",
       "    <tr>\n",
       "      <th>idade_posse</th>\n",
       "      <td>1.000000</td>\n",
       "      <td>0.013375</td>\n",
       "      <td>-0.049368</td>\n",
       "      <td>-0.045682</td>\n",
       "      <td>0.202831</td>\n",
       "      <td>0.066361</td>\n",
       "      <td>-0.043135</td>\n",
       "      <td>-0.273424</td>\n",
       "      <td>-0.020414</td>\n",
       "      <td>0.054731</td>\n",
       "      <td>0.026491</td>\n",
       "      <td>0.023438</td>\n",
       "    </tr>\n",
       "    <tr>\n",
       "      <th>valor_total_declarado</th>\n",
       "      <td>0.013375</td>\n",
       "      <td>1.000000</td>\n",
       "      <td>-0.211480</td>\n",
       "      <td>0.005624</td>\n",
       "      <td>0.013191</td>\n",
       "      <td>-0.014103</td>\n",
       "      <td>0.144386</td>\n",
       "      <td>-0.051368</td>\n",
       "      <td>-0.048336</td>\n",
       "      <td>0.114333</td>\n",
       "      <td>0.008017</td>\n",
       "      <td>-0.157023</td>\n",
       "    </tr>\n",
       "    <tr>\n",
       "      <th>municipio</th>\n",
       "      <td>-0.049368</td>\n",
       "      <td>-0.211480</td>\n",
       "      <td>1.000000</td>\n",
       "      <td>-0.160667</td>\n",
       "      <td>0.090276</td>\n",
       "      <td>-0.016480</td>\n",
       "      <td>-0.149105</td>\n",
       "      <td>0.043646</td>\n",
       "      <td>-0.023299</td>\n",
       "      <td>0.041618</td>\n",
       "      <td>0.083713</td>\n",
       "      <td>-0.099628</td>\n",
       "    </tr>\n",
       "    <tr>\n",
       "      <th>partido</th>\n",
       "      <td>-0.045682</td>\n",
       "      <td>0.005624</td>\n",
       "      <td>-0.160667</td>\n",
       "      <td>1.000000</td>\n",
       "      <td>-0.006271</td>\n",
       "      <td>0.003665</td>\n",
       "      <td>0.031977</td>\n",
       "      <td>-0.010697</td>\n",
       "      <td>-0.010842</td>\n",
       "      <td>-0.035617</td>\n",
       "      <td>-0.027637</td>\n",
       "      <td>0.054774</td>\n",
       "    </tr>\n",
       "    <tr>\n",
       "      <th>uf_nascimento</th>\n",
       "      <td>0.202831</td>\n",
       "      <td>0.013191</td>\n",
       "      <td>0.090276</td>\n",
       "      <td>-0.006271</td>\n",
       "      <td>1.000000</td>\n",
       "      <td>0.015941</td>\n",
       "      <td>-0.061951</td>\n",
       "      <td>-0.122143</td>\n",
       "      <td>-0.073561</td>\n",
       "      <td>0.010827</td>\n",
       "      <td>0.043700</td>\n",
       "      <td>-0.006514</td>\n",
       "    </tr>\n",
       "    <tr>\n",
       "      <th>genero</th>\n",
       "      <td>0.066361</td>\n",
       "      <td>-0.014103</td>\n",
       "      <td>-0.016480</td>\n",
       "      <td>0.003665</td>\n",
       "      <td>0.015941</td>\n",
       "      <td>1.000000</td>\n",
       "      <td>-0.103697</td>\n",
       "      <td>-0.107882</td>\n",
       "      <td>0.040397</td>\n",
       "      <td>0.084333</td>\n",
       "      <td>0.040250</td>\n",
       "      <td>-0.140733</td>\n",
       "    </tr>\n",
       "    <tr>\n",
       "      <th>grau_instrucao</th>\n",
       "      <td>-0.043135</td>\n",
       "      <td>0.144386</td>\n",
       "      <td>-0.149105</td>\n",
       "      <td>0.031977</td>\n",
       "      <td>-0.061951</td>\n",
       "      <td>-0.103697</td>\n",
       "      <td>1.000000</td>\n",
       "      <td>-0.043039</td>\n",
       "      <td>-0.053246</td>\n",
       "      <td>0.008691</td>\n",
       "      <td>-0.000342</td>\n",
       "      <td>-0.028220</td>\n",
       "    </tr>\n",
       "    <tr>\n",
       "      <th>estado_civil</th>\n",
       "      <td>-0.273424</td>\n",
       "      <td>-0.051368</td>\n",
       "      <td>0.043646</td>\n",
       "      <td>-0.010697</td>\n",
       "      <td>-0.122143</td>\n",
       "      <td>-0.107882</td>\n",
       "      <td>-0.043039</td>\n",
       "      <td>1.000000</td>\n",
       "      <td>0.034643</td>\n",
       "      <td>-0.072738</td>\n",
       "      <td>-0.045370</td>\n",
       "      <td>0.063530</td>\n",
       "    </tr>\n",
       "    <tr>\n",
       "      <th>declar_racial</th>\n",
       "      <td>-0.020414</td>\n",
       "      <td>-0.048336</td>\n",
       "      <td>-0.023299</td>\n",
       "      <td>-0.010842</td>\n",
       "      <td>-0.073561</td>\n",
       "      <td>0.040397</td>\n",
       "      <td>-0.053246</td>\n",
       "      <td>0.034643</td>\n",
       "      <td>1.000000</td>\n",
       "      <td>-0.027659</td>\n",
       "      <td>0.002602</td>\n",
       "      <td>0.043584</td>\n",
       "    </tr>\n",
       "    <tr>\n",
       "      <th>reeleicao</th>\n",
       "      <td>0.054731</td>\n",
       "      <td>0.114333</td>\n",
       "      <td>0.041618</td>\n",
       "      <td>-0.035617</td>\n",
       "      <td>0.010827</td>\n",
       "      <td>0.084333</td>\n",
       "      <td>0.008691</td>\n",
       "      <td>-0.072738</td>\n",
       "      <td>-0.027659</td>\n",
       "      <td>1.000000</td>\n",
       "      <td>0.017872</td>\n",
       "      <td>-0.238089</td>\n",
       "    </tr>\n",
       "    <tr>\n",
       "      <th>declar_bens</th>\n",
       "      <td>0.026491</td>\n",
       "      <td>0.008017</td>\n",
       "      <td>0.083713</td>\n",
       "      <td>-0.027637</td>\n",
       "      <td>0.043700</td>\n",
       "      <td>0.040250</td>\n",
       "      <td>-0.000342</td>\n",
       "      <td>-0.045370</td>\n",
       "      <td>0.002602</td>\n",
       "      <td>0.017872</td>\n",
       "      <td>1.000000</td>\n",
       "      <td>-0.056618</td>\n",
       "    </tr>\n",
       "    <tr>\n",
       "      <th>situacao</th>\n",
       "      <td>0.023438</td>\n",
       "      <td>-0.157023</td>\n",
       "      <td>-0.099628</td>\n",
       "      <td>0.054774</td>\n",
       "      <td>-0.006514</td>\n",
       "      <td>-0.140733</td>\n",
       "      <td>-0.028220</td>\n",
       "      <td>0.063530</td>\n",
       "      <td>0.043584</td>\n",
       "      <td>-0.238089</td>\n",
       "      <td>-0.056618</td>\n",
       "      <td>1.000000</td>\n",
       "    </tr>\n",
       "  </tbody>\n",
       "</table>\n",
       "</div>"
      ],
      "text/plain": [
       "                       idade_posse  valor_total_declarado  municipio  \\\n",
       "idade_posse               1.000000               0.013375  -0.049368   \n",
       "valor_total_declarado     0.013375               1.000000  -0.211480   \n",
       "municipio                -0.049368              -0.211480   1.000000   \n",
       "partido                  -0.045682               0.005624  -0.160667   \n",
       "uf_nascimento             0.202831               0.013191   0.090276   \n",
       "genero                    0.066361              -0.014103  -0.016480   \n",
       "grau_instrucao           -0.043135               0.144386  -0.149105   \n",
       "estado_civil             -0.273424              -0.051368   0.043646   \n",
       "declar_racial            -0.020414              -0.048336  -0.023299   \n",
       "reeleicao                 0.054731               0.114333   0.041618   \n",
       "declar_bens               0.026491               0.008017   0.083713   \n",
       "situacao                  0.023438              -0.157023  -0.099628   \n",
       "\n",
       "                        partido  uf_nascimento    genero  grau_instrucao  \\\n",
       "idade_posse           -0.045682       0.202831  0.066361       -0.043135   \n",
       "valor_total_declarado  0.005624       0.013191 -0.014103        0.144386   \n",
       "municipio             -0.160667       0.090276 -0.016480       -0.149105   \n",
       "partido                1.000000      -0.006271  0.003665        0.031977   \n",
       "uf_nascimento         -0.006271       1.000000  0.015941       -0.061951   \n",
       "genero                 0.003665       0.015941  1.000000       -0.103697   \n",
       "grau_instrucao         0.031977      -0.061951 -0.103697        1.000000   \n",
       "estado_civil          -0.010697      -0.122143 -0.107882       -0.043039   \n",
       "declar_racial         -0.010842      -0.073561  0.040397       -0.053246   \n",
       "reeleicao             -0.035617       0.010827  0.084333        0.008691   \n",
       "declar_bens           -0.027637       0.043700  0.040250       -0.000342   \n",
       "situacao               0.054774      -0.006514 -0.140733       -0.028220   \n",
       "\n",
       "                       estado_civil  declar_racial  reeleicao  declar_bens  \\\n",
       "idade_posse               -0.273424      -0.020414   0.054731     0.026491   \n",
       "valor_total_declarado     -0.051368      -0.048336   0.114333     0.008017   \n",
       "municipio                  0.043646      -0.023299   0.041618     0.083713   \n",
       "partido                   -0.010697      -0.010842  -0.035617    -0.027637   \n",
       "uf_nascimento             -0.122143      -0.073561   0.010827     0.043700   \n",
       "genero                    -0.107882       0.040397   0.084333     0.040250   \n",
       "grau_instrucao            -0.043039      -0.053246   0.008691    -0.000342   \n",
       "estado_civil               1.000000       0.034643  -0.072738    -0.045370   \n",
       "declar_racial              0.034643       1.000000  -0.027659     0.002602   \n",
       "reeleicao                 -0.072738      -0.027659   1.000000     0.017872   \n",
       "declar_bens               -0.045370       0.002602   0.017872     1.000000   \n",
       "situacao                   0.063530       0.043584  -0.238089    -0.056618   \n",
       "\n",
       "                       situacao  \n",
       "idade_posse            0.023438  \n",
       "valor_total_declarado -0.157023  \n",
       "municipio             -0.099628  \n",
       "partido                0.054774  \n",
       "uf_nascimento         -0.006514  \n",
       "genero                -0.140733  \n",
       "grau_instrucao        -0.028220  \n",
       "estado_civil           0.063530  \n",
       "declar_racial          0.043584  \n",
       "reeleicao             -0.238089  \n",
       "declar_bens           -0.056618  \n",
       "situacao               1.000000  "
      ]
     },
     "execution_count": 71,
     "metadata": {},
     "output_type": "execute_result"
    },
    {
     "data": {
      "image/png": "[encoded data removed]",
      "text/plain": [
       "<Figure size 864x360 with 2 Axes>"
      ]
     },
     "metadata": {},
     "output_type": "display_data"
    }
   ],
   "source": [
    "# Verificar a correlação das variáveis\n",
    "plt.figure(figsize=(12,5))\n",
    "sns.heatmap(df.corr())\n",
    "df.corr()"
   ]
  },
  {
   "cell_type": "markdown",
   "id": "59462223",
   "metadata": {},
   "source": [
    "#### Chegamos às seguintes conclusões com base na análise de dados feita até agora. \n",
    "* quem é casado tem maior probabilidade de ser eleito;\n",
    "* 17% dos candidatos eleitos eram candidatos a reeleição;\n",
    "* 93% dos candidatos eleitos declararam bens;\n",
    "\n",
    "#### Suposições\n",
    "* As variáveis que mais tem correlação com a sobreviência são 'valor total declarado', 'genero' e 'reeleição', provavelmente essas variáveis influenciam mais no modelo.\n",
    "\n",
    "#### Perfil de quem é eleito\n",
    "* Homem, pardo, casado entre 37 e 51 anos que possui ensino médio completo\n",
    "\n",
    "#### Perfil de quem não é eleito\n",
    "* Homem, pardordo, solteiro entre 36 e 48 anos que possui ensino médio completo"
   ]
  },
  {
   "cell_type": "code",
   "execution_count": 72,
   "id": "600354d5",
   "metadata": {},
   "outputs": [
    {
     "data": {
      "text/html": [
       "<div>\n",
       "<style scoped>\n",
       "    .dataframe tbody tr th:only-of-type {\n",
       "        vertical-align: middle;\n",
       "    }\n",
       "\n",
       "    .dataframe tbody tr th {\n",
       "        vertical-align: top;\n",
       "    }\n",
       "\n",
       "    .dataframe thead th {\n",
       "        text-align: right;\n",
       "    }\n",
       "</style>\n",
       "<table border=\"1\" class=\"dataframe\">\n",
       "  <thead>\n",
       "    <tr style=\"text-align: right;\">\n",
       "      <th></th>\n",
       "      <th>idade_posse</th>\n",
       "      <th>valor_total_declarado</th>\n",
       "      <th>municipio</th>\n",
       "      <th>partido</th>\n",
       "      <th>uf_nascimento</th>\n",
       "      <th>genero</th>\n",
       "      <th>grau_instrucao</th>\n",
       "      <th>estado_civil</th>\n",
       "      <th>declar_racial</th>\n",
       "      <th>reeleicao</th>\n",
       "      <th>declar_bens</th>\n",
       "    </tr>\n",
       "  </thead>\n",
       "  <tbody>\n",
       "    <tr>\n",
       "      <th>0</th>\n",
       "      <td>33</td>\n",
       "      <td>1285.00</td>\n",
       "      <td>1</td>\n",
       "      <td>1</td>\n",
       "      <td>1</td>\n",
       "      <td>0</td>\n",
       "      <td>2</td>\n",
       "      <td>0</td>\n",
       "      <td>1</td>\n",
       "      <td>0</td>\n",
       "      <td>1</td>\n",
       "    </tr>\n",
       "    <tr>\n",
       "      <th>1</th>\n",
       "      <td>37</td>\n",
       "      <td>2692.70</td>\n",
       "      <td>1</td>\n",
       "      <td>0</td>\n",
       "      <td>2</td>\n",
       "      <td>1</td>\n",
       "      <td>5</td>\n",
       "      <td>0</td>\n",
       "      <td>3</td>\n",
       "      <td>0</td>\n",
       "      <td>1</td>\n",
       "    </tr>\n",
       "    <tr>\n",
       "      <th>2</th>\n",
       "      <td>31</td>\n",
       "      <td>4528.68</td>\n",
       "      <td>0</td>\n",
       "      <td>1</td>\n",
       "      <td>1</td>\n",
       "      <td>0</td>\n",
       "      <td>5</td>\n",
       "      <td>0</td>\n",
       "      <td>1</td>\n",
       "      <td>0</td>\n",
       "      <td>1</td>\n",
       "    </tr>\n",
       "    <tr>\n",
       "      <th>3</th>\n",
       "      <td>31</td>\n",
       "      <td>1943.72</td>\n",
       "      <td>1</td>\n",
       "      <td>0</td>\n",
       "      <td>1</td>\n",
       "      <td>1</td>\n",
       "      <td>2</td>\n",
       "      <td>3</td>\n",
       "      <td>3</td>\n",
       "      <td>0</td>\n",
       "      <td>0</td>\n",
       "    </tr>\n",
       "    <tr>\n",
       "      <th>4</th>\n",
       "      <td>32</td>\n",
       "      <td>600.00</td>\n",
       "      <td>1</td>\n",
       "      <td>1</td>\n",
       "      <td>1</td>\n",
       "      <td>1</td>\n",
       "      <td>5</td>\n",
       "      <td>3</td>\n",
       "      <td>3</td>\n",
       "      <td>0</td>\n",
       "      <td>0</td>\n",
       "    </tr>\n",
       "    <tr>\n",
       "      <th>...</th>\n",
       "      <td>...</td>\n",
       "      <td>...</td>\n",
       "      <td>...</td>\n",
       "      <td>...</td>\n",
       "      <td>...</td>\n",
       "      <td>...</td>\n",
       "      <td>...</td>\n",
       "      <td>...</td>\n",
       "      <td>...</td>\n",
       "      <td>...</td>\n",
       "      <td>...</td>\n",
       "    </tr>\n",
       "    <tr>\n",
       "      <th>9330</th>\n",
       "      <td>36</td>\n",
       "      <td>4400.00</td>\n",
       "      <td>2</td>\n",
       "      <td>0</td>\n",
       "      <td>1</td>\n",
       "      <td>1</td>\n",
       "      <td>2</td>\n",
       "      <td>0</td>\n",
       "      <td>5</td>\n",
       "      <td>0</td>\n",
       "      <td>1</td>\n",
       "    </tr>\n",
       "    <tr>\n",
       "      <th>9331</th>\n",
       "      <td>31</td>\n",
       "      <td>10114.45</td>\n",
       "      <td>1</td>\n",
       "      <td>1</td>\n",
       "      <td>1</td>\n",
       "      <td>0</td>\n",
       "      <td>2</td>\n",
       "      <td>3</td>\n",
       "      <td>3</td>\n",
       "      <td>0</td>\n",
       "      <td>1</td>\n",
       "    </tr>\n",
       "    <tr>\n",
       "      <th>9332</th>\n",
       "      <td>33</td>\n",
       "      <td>1500.00</td>\n",
       "      <td>3</td>\n",
       "      <td>0</td>\n",
       "      <td>1</td>\n",
       "      <td>0</td>\n",
       "      <td>2</td>\n",
       "      <td>0</td>\n",
       "      <td>3</td>\n",
       "      <td>0</td>\n",
       "      <td>1</td>\n",
       "    </tr>\n",
       "    <tr>\n",
       "      <th>9333</th>\n",
       "      <td>33</td>\n",
       "      <td>1100.00</td>\n",
       "      <td>1</td>\n",
       "      <td>1</td>\n",
       "      <td>1</td>\n",
       "      <td>0</td>\n",
       "      <td>5</td>\n",
       "      <td>0</td>\n",
       "      <td>1</td>\n",
       "      <td>1</td>\n",
       "      <td>1</td>\n",
       "    </tr>\n",
       "    <tr>\n",
       "      <th>9334</th>\n",
       "      <td>41</td>\n",
       "      <td>472.00</td>\n",
       "      <td>1</td>\n",
       "      <td>0</td>\n",
       "      <td>1</td>\n",
       "      <td>0</td>\n",
       "      <td>2</td>\n",
       "      <td>3</td>\n",
       "      <td>3</td>\n",
       "      <td>0</td>\n",
       "      <td>0</td>\n",
       "    </tr>\n",
       "  </tbody>\n",
       "</table>\n",
       "<p>9335 rows × 11 columns</p>\n",
       "</div>"
      ],
      "text/plain": [
       "      idade_posse  valor_total_declarado  municipio  partido  uf_nascimento  \\\n",
       "0              33                1285.00          1        1              1   \n",
       "1              37                2692.70          1        0              2   \n",
       "2              31                4528.68          0        1              1   \n",
       "3              31                1943.72          1        0              1   \n",
       "4              32                 600.00          1        1              1   \n",
       "...           ...                    ...        ...      ...            ...   \n",
       "9330           36                4400.00          2        0              1   \n",
       "9331           31               10114.45          1        1              1   \n",
       "9332           33                1500.00          3        0              1   \n",
       "9333           33                1100.00          1        1              1   \n",
       "9334           41                 472.00          1        0              1   \n",
       "\n",
       "      genero  grau_instrucao  estado_civil  declar_racial  reeleicao  \\\n",
       "0          0               2             0              1          0   \n",
       "1          1               5             0              3          0   \n",
       "2          0               5             0              1          0   \n",
       "3          1               2             3              3          0   \n",
       "4          1               5             3              3          0   \n",
       "...      ...             ...           ...            ...        ...   \n",
       "9330       1               2             0              5          0   \n",
       "9331       0               2             3              3          0   \n",
       "9332       0               2             0              3          0   \n",
       "9333       0               5             0              1          1   \n",
       "9334       0               2             3              3          0   \n",
       "\n",
       "      declar_bens  \n",
       "0               1  \n",
       "1               1  \n",
       "2               1  \n",
       "3               0  \n",
       "4               0  \n",
       "...           ...  \n",
       "9330            1  \n",
       "9331            1  \n",
       "9332            1  \n",
       "9333            1  \n",
       "9334            0  \n",
       "\n",
       "[9335 rows x 11 columns]"
      ]
     },
     "execution_count": 72,
     "metadata": {},
     "output_type": "execute_result"
    }
   ],
   "source": [
    "# Separar dados em variáveis preditoras e variável alvo\n",
    "\n",
    "#separamos x de y\n",
    "y = df['situacao']\n",
    "X = df.iloc[:,0:11]\n",
    "X"
   ]
  },
  {
   "cell_type": "code",
   "execution_count": 73,
   "id": "b96ccb8b",
   "metadata": {},
   "outputs": [
    {
     "data": {
      "text/plain": [
       "array([8022, 8022], dtype=int64)"
      ]
     },
     "execution_count": 73,
     "metadata": {},
     "output_type": "execute_result"
    }
   ],
   "source": [
    "# Balanceamento da classe\n",
    "\n",
    "sm = SMOTENC(random_state=42, categorical_features=[0,1])\n",
    "X, y= sm.fit_resample(X, y)\n",
    "np.bincount(y)"
   ]
  },
  {
   "cell_type": "code",
   "execution_count": 74,
   "id": "cb02a8f2",
   "metadata": {},
   "outputs": [],
   "source": [
    "# Separar dados em treino e teste\n",
    "\n",
    "from sklearn.model_selection import train_test_split\n",
    "\n",
    "X_train, X_test, y_train, y_test = train_test_split(X,y,test_size = 0.3,random_state = 0)"
   ]
  },
  {
   "cell_type": "code",
   "execution_count": 75,
   "id": "6bdf226c",
   "metadata": {},
   "outputs": [],
   "source": [
    "# Balancear escalas\n",
    "from sklearn.preprocessing import StandardScaler\n",
    "\n",
    "sc = StandardScaler()"
   ]
  },
  {
   "cell_type": "code",
   "execution_count": 76,
   "id": "cb5ea099",
   "metadata": {},
   "outputs": [],
   "source": [
    "# Balancear Idade\n",
    "X_train[\"idade_posse\"] = sc.fit_transform( X_train.iloc[:,0:1])\n",
    "X_test[\"idade_posse\"] = sc.transform(X_test.iloc[:,0:1])\n",
    "X_train[\"valor_total_declarado\"] = sc.fit_transform( X_train.iloc[:,1:2])\n",
    "X_test[\"valor_total_declarado\"] = sc.transform(X_test.iloc[:,1:2])"
   ]
  },
  {
   "cell_type": "code",
   "execution_count": 78,
   "id": "819afaa0",
   "metadata": {},
   "outputs": [],
   "source": [
    "# Salvar Dados em Csv\n",
    "X_train.to_csv(\"X_train.csv\", index=False)\n",
    "y_train.to_csv(\"y_train.csv\", index=False)\n",
    "X_test.to_csv(\"X_test.csv\", index=False)\n",
    "y_test.to_csv(\"y_test.csv\", index=False)"
   ]
  },
  {
   "cell_type": "markdown",
   "id": "dd621185",
   "metadata": {},
   "source": [
    "# Modelagem"
   ]
  },
  {
   "cell_type": "code",
   "execution_count": 79,
   "id": "c1f74ea2",
   "metadata": {},
   "outputs": [],
   "source": [
    "##### bibliotecas de machine learning usadas nesse projeto\n",
    "\n",
    "from sklearn.ensemble import RandomForestClassifier\n",
    "from sklearn.neighbors import KNeighborsClassifier\n",
    "from sklearn.tree import DecisionTreeClassifier\n",
    "from sklearn.ensemble import ExtraTreesClassifier"
   ]
  },
  {
   "cell_type": "markdown",
   "id": "a78d5a57",
   "metadata": {},
   "source": [
    "#### KNN"
   ]
  },
  {
   "cell_type": "code",
   "execution_count": 80,
   "id": "103ac298",
   "metadata": {},
   "outputs": [
    {
     "data": {
      "text/plain": [
       "75.38"
      ]
     },
     "execution_count": 80,
     "metadata": {},
     "output_type": "execute_result"
    }
   ],
   "source": [
    "# Algoritmo KNN K=7\n",
    "\n",
    "knn1 = KNeighborsClassifier(n_neighbors = 7)\n",
    "knn1.fit(X_train, y_train)\n",
    "Y_pred = knn1.predict(X_test)\n",
    "acc_knn1 = round(knn1.score(X_test, y_test) * 100, 2)\n",
    "acc_knn1"
   ]
  },
  {
   "cell_type": "code",
   "execution_count": 81,
   "id": "b3b54fa8",
   "metadata": {},
   "outputs": [
    {
     "data": {
      "text/plain": [
       "76.09"
      ]
     },
     "execution_count": 81,
     "metadata": {},
     "output_type": "execute_result"
    }
   ],
   "source": [
    "# Algoritmo KNN K=5\n",
    "\n",
    "knn2 = KNeighborsClassifier(n_neighbors = 5)\n",
    "knn2.fit(X_train, y_train)\n",
    "Y_pred = knn2.predict(X_test)\n",
    "acc_knn2 = round(knn2.score(X_test, y_test) * 100, 2)\n",
    "acc_knn2"
   ]
  },
  {
   "cell_type": "code",
   "execution_count": 82,
   "id": "ffd10de3",
   "metadata": {},
   "outputs": [
    {
     "data": {
      "text/plain": [
       "77.63"
      ]
     },
     "execution_count": 82,
     "metadata": {},
     "output_type": "execute_result"
    }
   ],
   "source": [
    "# Algoritmo KNN K=3\n",
    "\n",
    "knn3 = KNeighborsClassifier(n_neighbors = 3)\n",
    "knn3.fit(X_train, y_train)\n",
    "Y_pred = knn3.predict(X_test)\n",
    "acc_knn3 = round(knn3.score(X_test, y_test) * 100, 2)\n",
    "acc_knn3"
   ]
  },
  {
   "cell_type": "markdown",
   "id": "99d82cb1",
   "metadata": {},
   "source": [
    "##### Árvore de Decisão"
   ]
  },
  {
   "cell_type": "code",
   "execution_count": 83,
   "id": "694deb8f",
   "metadata": {},
   "outputs": [
    {
     "data": {
      "text/plain": [
       "78.4"
      ]
     },
     "execution_count": 83,
     "metadata": {},
     "output_type": "execute_result"
    }
   ],
   "source": [
    "# Algoritmo Árvore de Decisão sem definir a profundidade máxima\n",
    "\n",
    "decision_tree0 = DecisionTreeClassifier(criterion='entropy', random_state=15) # Árvore com profundidade 2\n",
    "decision_tree0.fit(X_train, y_train)\n",
    "Y_pred = decision_tree0.predict(X_test)\n",
    "acc_decision_tree0 = round(decision_tree0.score(X_test, y_test) * 100, 2)\n",
    "acc_decision_tree0"
   ]
  },
  {
   "cell_type": "code",
   "execution_count": 84,
   "id": "2c429596",
   "metadata": {},
   "outputs": [
    {
     "data": {
      "text/plain": [
       "65.25"
      ]
     },
     "execution_count": 84,
     "metadata": {},
     "output_type": "execute_result"
    }
   ],
   "source": [
    "# Algoritmo Árvore de Decisão com profundidade máxima = 2  e entropy\n",
    "\n",
    "decision_tree1 = DecisionTreeClassifier(max_depth=2, criterion='entropy', random_state=15) # Árvore com profundidade 2\n",
    "decision_tree1.fit(X_train, y_train)\n",
    "Y_pred = decision_tree1.predict(X_test)\n",
    "acc_decision_tree1 = round(decision_tree1.score(X_test, y_test) * 100, 2)\n",
    "acc_decision_tree1"
   ]
  },
  {
   "cell_type": "code",
   "execution_count": 85,
   "id": "9ffba6d0",
   "metadata": {},
   "outputs": [
    {
     "data": {
      "text/plain": [
       "65.25"
      ]
     },
     "execution_count": 85,
     "metadata": {},
     "output_type": "execute_result"
    }
   ],
   "source": [
    "# Algoritmo Árvore de Decisão com profundidade máxima = 2 e gini\n",
    "\n",
    "decision_tree2 = DecisionTreeClassifier(max_depth=2, criterion='gini', random_state=15) # Árvore com profundidade 2\n",
    "decision_tree2.fit(X_train, y_train)\n",
    "Y_pred = decision_tree2.predict(X_test)\n",
    "acc_decision_tree2 = round(decision_tree2.score(X_test, y_test) * 100, 2)\n",
    "acc_decision_tree2"
   ]
  },
  {
   "cell_type": "code",
   "execution_count": 86,
   "id": "1cadb376",
   "metadata": {},
   "outputs": [
    {
     "data": {
      "text/plain": [
       "68.84"
      ]
     },
     "execution_count": 86,
     "metadata": {},
     "output_type": "execute_result"
    }
   ],
   "source": [
    "# Algoritmo Árvore de Decisão com profundidade máxima = 4 e entropy\n",
    "\n",
    "decision_tree3 = DecisionTreeClassifier(max_depth=4, criterion='entropy', random_state=15) # Árvore com profundidade 4\n",
    "decision_tree3.fit(X_train, y_train)\n",
    "Y_pred = decision_tree3.predict(X_test)\n",
    "acc_decision_tree3 = round(decision_tree3.score(X_test, y_test) * 100, 2)\n",
    "acc_decision_tree3"
   ]
  },
  {
   "cell_type": "code",
   "execution_count": 87,
   "id": "5b648e98",
   "metadata": {},
   "outputs": [
    {
     "data": {
      "text/plain": [
       "68.92"
      ]
     },
     "execution_count": 87,
     "metadata": {},
     "output_type": "execute_result"
    }
   ],
   "source": [
    "# Algoritmo Árvore de Decisão com profundidade máxima = 4 e gini\n",
    "\n",
    "decision_tree4 = DecisionTreeClassifier(max_depth=4, criterion='gini', random_state=15) # Árvore com profundidade 4\n",
    "decision_tree4.fit(X_train, y_train)\n",
    "Y_pred = decision_tree4.predict(X_test)\n",
    "acc_decision_tree4 = round(decision_tree4.score(X_test, y_test) * 100, 2)\n",
    "acc_decision_tree4"
   ]
  },
  {
   "cell_type": "markdown",
   "id": "d846bc06",
   "metadata": {},
   "source": [
    "##### Floresta Aleatória"
   ]
  },
  {
   "cell_type": "code",
   "execution_count": 88,
   "id": "e3375b3a",
   "metadata": {},
   "outputs": [
    {
     "data": {
      "text/plain": [
       "84.34"
      ]
     },
     "execution_count": 88,
     "metadata": {},
     "output_type": "execute_result"
    }
   ],
   "source": [
    "# Random Forest com criterio entropy\n",
    "\n",
    "random_forest1 = RandomForestClassifier(n_estimators=1000, criterion= 'entropy', random_state=15)\n",
    "random_forest1.fit(X_train, y_train)\n",
    "Y_pred = random_forest1.predict(X_test)\n",
    "random_forest1.score(X_train, y_train)\n",
    "acc_random_forest1 = round(random_forest1.score(X_test, y_test) * 100, 2)\n",
    "acc_random_forest1"
   ]
  },
  {
   "cell_type": "code",
   "execution_count": 89,
   "id": "2542bdb3",
   "metadata": {},
   "outputs": [
    {
     "data": {
      "text/plain": [
       "84.34"
      ]
     },
     "execution_count": 89,
     "metadata": {},
     "output_type": "execute_result"
    }
   ],
   "source": [
    "# Random Forest com criterio gini\n",
    "\n",
    "random_forest2 = RandomForestClassifier(n_estimators=1000, criterion= 'gini', random_state=15)\n",
    "random_forest2.fit(X_train, y_train)\n",
    "Y_pred = random_forest2.predict(X_test)\n",
    "random_forest2.score(X_train, y_train)\n",
    "acc_random_forest2 = round(random_forest2.score(X_test, y_test) * 100, 2)\n",
    "acc_random_forest2"
   ]
  },
  {
   "cell_type": "markdown",
   "id": "a81b41b7",
   "metadata": {},
   "source": [
    "##### Extra Trees"
   ]
  },
  {
   "cell_type": "code",
   "execution_count": 90,
   "id": "a33bf342",
   "metadata": {},
   "outputs": [
    {
     "data": {
      "text/plain": [
       "83.36"
      ]
     },
     "execution_count": 90,
     "metadata": {},
     "output_type": "execute_result"
    }
   ],
   "source": [
    "# ExtraTrees com criterio entropy\n",
    "\n",
    "extra_tress1 = ExtraTreesClassifier(n_estimators=1000, criterion= 'entropy', random_state=15)\n",
    "extra_tress1.fit(X_train, y_train)\n",
    "Y_pred = extra_tress1.predict(X_test)\n",
    "extra_tress1.score(X_train, y_train)\n",
    "acc_extra_tress1 = round(extra_tress1.score(X_test, y_test) * 100, 2)\n",
    "acc_extra_tress1"
   ]
  },
  {
   "cell_type": "code",
   "execution_count": 91,
   "id": "8df3f89f",
   "metadata": {},
   "outputs": [
    {
     "data": {
      "text/plain": [
       "83.38"
      ]
     },
     "execution_count": 91,
     "metadata": {},
     "output_type": "execute_result"
    }
   ],
   "source": [
    "# ExtraTrees com criterio gini\n",
    "\n",
    "extra_tress2 = ExtraTreesClassifier(n_estimators=1000, criterion= 'gini', random_state=15)\n",
    "extra_tress2.fit(X_train, y_train)\n",
    "Y_pred = extra_tress2.predict(X_test)\n",
    "extra_tress2.score(X_train, y_train)\n",
    "acc_extra_tress2 = round(extra_tress2.score(X_test, y_test) * 100, 2)\n",
    "acc_extra_tress2"
   ]
  },
  {
   "cell_type": "code",
   "execution_count": 92,
   "id": "e3a9d910",
   "metadata": {},
   "outputs": [
    {
     "data": {
      "text/html": [
       "<div>\n",
       "<style scoped>\n",
       "    .dataframe tbody tr th:only-of-type {\n",
       "        vertical-align: middle;\n",
       "    }\n",
       "\n",
       "    .dataframe tbody tr th {\n",
       "        vertical-align: top;\n",
       "    }\n",
       "\n",
       "    .dataframe thead th {\n",
       "        text-align: right;\n",
       "    }\n",
       "</style>\n",
       "<table border=\"1\" class=\"dataframe\">\n",
       "  <thead>\n",
       "    <tr style=\"text-align: right;\">\n",
       "      <th></th>\n",
       "      <th>Modelo</th>\n",
       "      <th>Score</th>\n",
       "    </tr>\n",
       "  </thead>\n",
       "  <tbody>\n",
       "    <tr>\n",
       "      <th>8</th>\n",
       "      <td>Floresta Aleatória (Entropy)</td>\n",
       "      <td>84.34</td>\n",
       "    </tr>\n",
       "    <tr>\n",
       "      <th>9</th>\n",
       "      <td>Floresta Aleatória (Gini)</td>\n",
       "      <td>84.34</td>\n",
       "    </tr>\n",
       "    <tr>\n",
       "      <th>11</th>\n",
       "      <td>ExtraTrees (Gini)</td>\n",
       "      <td>83.38</td>\n",
       "    </tr>\n",
       "    <tr>\n",
       "      <th>10</th>\n",
       "      <td>ExtraTrees (Entropy)</td>\n",
       "      <td>83.36</td>\n",
       "    </tr>\n",
       "    <tr>\n",
       "      <th>3</th>\n",
       "      <td>Árvore de Decisão padrão</td>\n",
       "      <td>78.40</td>\n",
       "    </tr>\n",
       "    <tr>\n",
       "      <th>2</th>\n",
       "      <td>KNN com K=3</td>\n",
       "      <td>77.63</td>\n",
       "    </tr>\n",
       "    <tr>\n",
       "      <th>1</th>\n",
       "      <td>KNN com K=5</td>\n",
       "      <td>76.09</td>\n",
       "    </tr>\n",
       "    <tr>\n",
       "      <th>0</th>\n",
       "      <td>KNN com K=7</td>\n",
       "      <td>75.38</td>\n",
       "    </tr>\n",
       "    <tr>\n",
       "      <th>7</th>\n",
       "      <td>Árvore de Decisão com profundidade máxima = 4 ...</td>\n",
       "      <td>68.92</td>\n",
       "    </tr>\n",
       "    <tr>\n",
       "      <th>6</th>\n",
       "      <td>Árvore de Decisão com profundidade máxima = 4 ...</td>\n",
       "      <td>68.84</td>\n",
       "    </tr>\n",
       "    <tr>\n",
       "      <th>4</th>\n",
       "      <td>Árvore de Decisão com profundidade máxima = 2 ...</td>\n",
       "      <td>65.25</td>\n",
       "    </tr>\n",
       "    <tr>\n",
       "      <th>5</th>\n",
       "      <td>Árvore de Decisão com profundidade máxima = 2 ...</td>\n",
       "      <td>65.25</td>\n",
       "    </tr>\n",
       "  </tbody>\n",
       "</table>\n",
       "</div>"
      ],
      "text/plain": [
       "                                               Modelo  Score\n",
       "8                        Floresta Aleatória (Entropy)  84.34\n",
       "9                           Floresta Aleatória (Gini)  84.34\n",
       "11                                  ExtraTrees (Gini)  83.38\n",
       "10                               ExtraTrees (Entropy)  83.36\n",
       "3                            Árvore de Decisão padrão  78.40\n",
       "2                                         KNN com K=3  77.63\n",
       "1                                         KNN com K=5  76.09\n",
       "0                                         KNN com K=7  75.38\n",
       "7   Árvore de Decisão com profundidade máxima = 4 ...  68.92\n",
       "6   Árvore de Decisão com profundidade máxima = 4 ...  68.84\n",
       "4   Árvore de Decisão com profundidade máxima = 2 ...  65.25\n",
       "5   Árvore de Decisão com profundidade máxima = 2 ...  65.25"
      ]
     },
     "execution_count": 92,
     "metadata": {},
     "output_type": "execute_result"
    }
   ],
   "source": [
    "models = pd.DataFrame({\n",
    "    'Modelo': ['KNN com K=7', 'KNN com K=5', 'KNN com K=3', \n",
    "              'Árvore de Decisão padrão', 'Árvore de Decisão com profundidade máxima = 2  e entropy', \n",
    "              'Árvore de Decisão com profundidade máxima = 2 e gini', 'Árvore de Decisão com profundidade máxima = 4 e entropy',\n",
    "              'Árvore de Decisão com profundidade máxima = 4 e gini',\n",
    "              'Floresta Aleatória (Entropy)', 'Floresta Aleatória (Gini)',\n",
    "              'ExtraTrees (Entropy)', 'ExtraTrees (Gini)'],\n",
    "    'Score': [acc_knn1, acc_knn2, acc_knn3, \n",
    "              acc_decision_tree0, acc_decision_tree1, acc_decision_tree2, acc_decision_tree3, acc_decision_tree4,\n",
    "              acc_random_forest1, acc_random_forest2,\n",
    "             acc_extra_tress1, acc_extra_tress2]})\n",
    "models.sort_values(by='Score', ascending=False)"
   ]
  },
  {
   "cell_type": "markdown",
   "id": "9e96e1be",
   "metadata": {},
   "source": [
    "##### O modelo com Score melhor foi o de Floresta Aleatória com critério de entropia"
   ]
  },
  {
   "cell_type": "code",
   "execution_count": 93,
   "id": "175ea613",
   "metadata": {},
   "outputs": [
    {
     "name": "stdout",
     "output_type": "stream",
     "text": [
      "[[2099  304]\n",
      " [ 450 1961]]\n"
     ]
    }
   ],
   "source": [
    "# Verificando outras métricas para o modelo\n",
    "\n",
    "Previsoes = random_forest1.predict(X_test)\n",
    "\n",
    "from sklearn.metrics import confusion_matrix\n",
    "Matriz = confusion_matrix(y_test, Previsoes)\n",
    "print(Matriz)"
   ]
  },
  {
   "cell_type": "code",
   "execution_count": 94,
   "id": "c8e7aa07",
   "metadata": {},
   "outputs": [
    {
     "name": "stdout",
     "output_type": "stream",
     "text": [
      "              precision    recall  f1-score   support\n",
      "\n",
      "           0       0.82      0.87      0.85      2403\n",
      "           1       0.87      0.81      0.84      2411\n",
      "\n",
      "    accuracy                           0.84      4814\n",
      "   macro avg       0.84      0.84      0.84      4814\n",
      "weighted avg       0.84      0.84      0.84      4814\n",
      "\n"
     ]
    }
   ],
   "source": [
    "# Verificando a precisão, o recall e o F1\n",
    "from sklearn.metrics import classification_report\n",
    "\n",
    "report = classification_report(y_test, Previsoes)\n",
    "print(report)"
   ]
  },
  {
   "cell_type": "markdown",
   "id": "3cd025d9",
   "metadata": {},
   "source": [
    "### Vamos prosseguir com o modelo de Floresta Aleatória com critério de Entropia."
   ]
  },
  {
   "cell_type": "markdown",
   "id": "8bebae6f",
   "metadata": {},
   "source": [
    "# Treinar modelo com menos variáveis"
   ]
  },
  {
   "cell_type": "code",
   "execution_count": 95,
   "id": "c581e65a",
   "metadata": {},
   "outputs": [
    {
     "data": {
      "text/plain": [
       "array([0.20088571, 0.33677756, 0.05490953, 0.04464715, 0.03057826,\n",
       "       0.04366574, 0.10828053, 0.05831861, 0.06702339, 0.03021253,\n",
       "       0.024701  ])"
      ]
     },
     "execution_count": 95,
     "metadata": {},
     "output_type": "execute_result"
    }
   ],
   "source": [
    "from sklearn.ensemble import ExtraTreesRegressor\n",
    "# Utilização do algoritmo ExtraTreesRegressor para extrair as características mais importantes\n",
    "forest = ExtraTreesRegressor()\n",
    "forest.fit(X_train, y_train)\n",
    "importancias = forest.feature_importances_\n",
    "importancias"
   ]
  },
  {
   "cell_type": "code",
   "execution_count": 96,
   "id": "7e3ec169",
   "metadata": {},
   "outputs": [
    {
     "data": {
      "image/png": "[encoded data removed]",
      "text/plain": [
       "<Figure size 864x360 with 1 Axes>"
      ]
     },
     "metadata": {},
     "output_type": "display_data"
    }
   ],
   "source": [
    "plt.figure(figsize=(12,5))\n",
    "sns.barplot(x=X_train.columns, y=importancias, palette='winter')\n",
    "plt.show()"
   ]
  },
  {
   "cell_type": "code",
   "execution_count": 211,
   "id": "3acdd3ec",
   "metadata": {},
   "outputs": [
    {
     "data": {
      "text/html": [
       "<div>\n",
       "<style scoped>\n",
       "    .dataframe tbody tr th:only-of-type {\n",
       "        vertical-align: middle;\n",
       "    }\n",
       "\n",
       "    .dataframe tbody tr th {\n",
       "        vertical-align: top;\n",
       "    }\n",
       "\n",
       "    .dataframe thead th {\n",
       "        text-align: right;\n",
       "    }\n",
       "</style>\n",
       "<table border=\"1\" class=\"dataframe\">\n",
       "  <thead>\n",
       "    <tr style=\"text-align: right;\">\n",
       "      <th></th>\n",
       "      <th>idade_posse</th>\n",
       "      <th>valor_total_declarado</th>\n",
       "      <th>municipio</th>\n",
       "      <th>partido</th>\n",
       "      <th>uf_nascimento</th>\n",
       "      <th>genero</th>\n",
       "      <th>grau_instrucao</th>\n",
       "      <th>estado_civil</th>\n",
       "      <th>declar_racial</th>\n",
       "      <th>reeleicao</th>\n",
       "    </tr>\n",
       "  </thead>\n",
       "  <tbody>\n",
       "    <tr>\n",
       "      <th>11611</th>\n",
       "      <td>-0.013310</td>\n",
       "      <td>-0.224203</td>\n",
       "      <td>3</td>\n",
       "      <td>0</td>\n",
       "      <td>1</td>\n",
       "      <td>1</td>\n",
       "      <td>0</td>\n",
       "      <td>0</td>\n",
       "      <td>3</td>\n",
       "      <td>0</td>\n",
       "    </tr>\n",
       "    <tr>\n",
       "      <th>5906</th>\n",
       "      <td>-0.217790</td>\n",
       "      <td>-0.120875</td>\n",
       "      <td>3</td>\n",
       "      <td>1</td>\n",
       "      <td>2</td>\n",
       "      <td>0</td>\n",
       "      <td>5</td>\n",
       "      <td>1</td>\n",
       "      <td>3</td>\n",
       "      <td>0</td>\n",
       "    </tr>\n",
       "    <tr>\n",
       "      <th>13148</th>\n",
       "      <td>-0.422270</td>\n",
       "      <td>0.726243</td>\n",
       "      <td>3</td>\n",
       "      <td>1</td>\n",
       "      <td>1</td>\n",
       "      <td>1</td>\n",
       "      <td>2</td>\n",
       "      <td>0</td>\n",
       "      <td>1</td>\n",
       "      <td>0</td>\n",
       "    </tr>\n",
       "    <tr>\n",
       "      <th>6935</th>\n",
       "      <td>-0.728990</td>\n",
       "      <td>-0.377596</td>\n",
       "      <td>3</td>\n",
       "      <td>0</td>\n",
       "      <td>1</td>\n",
       "      <td>0</td>\n",
       "      <td>2</td>\n",
       "      <td>3</td>\n",
       "      <td>3</td>\n",
       "      <td>0</td>\n",
       "    </tr>\n",
       "    <tr>\n",
       "      <th>11242</th>\n",
       "      <td>-0.320030</td>\n",
       "      <td>-0.174404</td>\n",
       "      <td>3</td>\n",
       "      <td>0</td>\n",
       "      <td>1</td>\n",
       "      <td>0</td>\n",
       "      <td>2</td>\n",
       "      <td>3</td>\n",
       "      <td>1</td>\n",
       "      <td>0</td>\n",
       "    </tr>\n",
       "    <tr>\n",
       "      <th>...</th>\n",
       "      <td>...</td>\n",
       "      <td>...</td>\n",
       "      <td>...</td>\n",
       "      <td>...</td>\n",
       "      <td>...</td>\n",
       "      <td>...</td>\n",
       "      <td>...</td>\n",
       "      <td>...</td>\n",
       "      <td>...</td>\n",
       "      <td>...</td>\n",
       "    </tr>\n",
       "    <tr>\n",
       "      <th>13123</th>\n",
       "      <td>-0.831230</td>\n",
       "      <td>-0.260961</td>\n",
       "      <td>2</td>\n",
       "      <td>0</td>\n",
       "      <td>1</td>\n",
       "      <td>1</td>\n",
       "      <td>2</td>\n",
       "      <td>3</td>\n",
       "      <td>2</td>\n",
       "      <td>0</td>\n",
       "    </tr>\n",
       "    <tr>\n",
       "      <th>3264</th>\n",
       "      <td>1.315809</td>\n",
       "      <td>1.409473</td>\n",
       "      <td>1</td>\n",
       "      <td>1</td>\n",
       "      <td>2</td>\n",
       "      <td>1</td>\n",
       "      <td>0</td>\n",
       "      <td>0</td>\n",
       "      <td>3</td>\n",
       "      <td>0</td>\n",
       "    </tr>\n",
       "    <tr>\n",
       "      <th>9845</th>\n",
       "      <td>-0.933470</td>\n",
       "      <td>-0.348657</td>\n",
       "      <td>3</td>\n",
       "      <td>1</td>\n",
       "      <td>1</td>\n",
       "      <td>1</td>\n",
       "      <td>2</td>\n",
       "      <td>0</td>\n",
       "      <td>3</td>\n",
       "      <td>0</td>\n",
       "    </tr>\n",
       "    <tr>\n",
       "      <th>10799</th>\n",
       "      <td>-0.013310</td>\n",
       "      <td>-0.419269</td>\n",
       "      <td>2</td>\n",
       "      <td>0</td>\n",
       "      <td>2</td>\n",
       "      <td>1</td>\n",
       "      <td>1</td>\n",
       "      <td>0</td>\n",
       "      <td>1</td>\n",
       "      <td>1</td>\n",
       "    </tr>\n",
       "    <tr>\n",
       "      <th>2732</th>\n",
       "      <td>0.497890</td>\n",
       "      <td>1.404109</td>\n",
       "      <td>1</td>\n",
       "      <td>1</td>\n",
       "      <td>2</td>\n",
       "      <td>1</td>\n",
       "      <td>5</td>\n",
       "      <td>0</td>\n",
       "      <td>1</td>\n",
       "      <td>1</td>\n",
       "    </tr>\n",
       "  </tbody>\n",
       "</table>\n",
       "<p>11230 rows × 10 columns</p>\n",
       "</div>"
      ],
      "text/plain": [
       "       idade_posse  valor_total_declarado  municipio  partido  uf_nascimento  \\\n",
       "11611    -0.013310              -0.224203          3        0              1   \n",
       "5906     -0.217790              -0.120875          3        1              2   \n",
       "13148    -0.422270               0.726243          3        1              1   \n",
       "6935     -0.728990              -0.377596          3        0              1   \n",
       "11242    -0.320030              -0.174404          3        0              1   \n",
       "...            ...                    ...        ...      ...            ...   \n",
       "13123    -0.831230              -0.260961          2        0              1   \n",
       "3264      1.315809               1.409473          1        1              2   \n",
       "9845     -0.933470              -0.348657          3        1              1   \n",
       "10799    -0.013310              -0.419269          2        0              2   \n",
       "2732      0.497890               1.404109          1        1              2   \n",
       "\n",
       "       genero  grau_instrucao  estado_civil  declar_racial  reeleicao  \n",
       "11611       1               0             0              3          0  \n",
       "5906        0               5             1              3          0  \n",
       "13148       1               2             0              1          0  \n",
       "6935        0               2             3              3          0  \n",
       "11242       0               2             3              1          0  \n",
       "...       ...             ...           ...            ...        ...  \n",
       "13123       1               2             3              2          0  \n",
       "3264        1               0             0              3          0  \n",
       "9845        1               2             0              3          0  \n",
       "10799       1               1             0              1          1  \n",
       "2732        1               5             0              1          1  \n",
       "\n",
       "[11230 rows x 10 columns]"
      ]
     },
     "metadata": {},
     "output_type": "display_data"
    }
   ],
   "source": [
    "# Criação de nova base de dados utilizando somente os atributos mais importante\n",
    "\n",
    "X_train2 = X_train.drop('declar_bens', axis=1)\n",
    "X_test2 = X_test.drop('declar_bens', axis=1)\n",
    "\n",
    "#X_train2 = X_train2.drop('uf_nascimento', axis=1)\n",
    "#X_test2 = X_test2.drop('uf_nascimento', axis=1)\n",
    "\n",
    "#X_train2 = X_train2.drop('reeleicao', axis=1)\n",
    "#X_test2 = X_test2.drop('reeleicao', axis=1)\n",
    "\n",
    "#X_train2 = X_train2.drop('genero', axis=1)\n",
    "#X_test2 = X_test2.drop('genero', axis=1)\n",
    "\n",
    "#X_train2 = X_train2.drop('partido', axis=1)\n",
    "#X_test2 = X_test2.drop('partido', axis=1)\n",
    "\n",
    "#X_train2 = X_train2.drop('municipio', axis=1)\n",
    "#X_test2 = X_test2.drop('municipio', axis=1)\n",
    "\n",
    "#X_train2 = X_train2.drop('estado_civil', axis=1)\n",
    "#X_test2 = X_test2.drop('estado_civil', axis=1)\n",
    "\n",
    "#X_train2 = X_train2.drop('declar_racial', axis=1)\n",
    "#X_test2 = X_test2.drop('declar_racial', axis=1)\n",
    "\n",
    "#X_train2 = X_train2.drop('grau_instrucao', axis=1)\n",
    "#X_test2 = X_test2.drop('grau_instrucao', axis=1)\n",
    "\n",
    "display(X_train2)"
   ]
  },
  {
   "cell_type": "markdown",
   "id": "45e1aae9",
   "metadata": {},
   "source": [
    "##### KNN"
   ]
  },
  {
   "cell_type": "code",
   "execution_count": 212,
   "id": "59f37f04",
   "metadata": {},
   "outputs": [
    {
     "data": {
      "text/plain": [
       "75.88"
      ]
     },
     "execution_count": 212,
     "metadata": {},
     "output_type": "execute_result"
    }
   ],
   "source": [
    "# Algoritmo KNN K=7\n",
    "\n",
    "knn1 = KNeighborsClassifier(n_neighbors = 7)\n",
    "knn1.fit(X_train2, y_train)\n",
    "Y_pred = knn1.predict(X_test2)\n",
    "acc_knn1 = round(knn1.score(X_test2, y_test) * 100, 2)\n",
    "acc_knn1"
   ]
  },
  {
   "cell_type": "code",
   "execution_count": 213,
   "id": "f8964514",
   "metadata": {},
   "outputs": [
    {
     "data": {
      "text/plain": [
       "76.22"
      ]
     },
     "execution_count": 213,
     "metadata": {},
     "output_type": "execute_result"
    }
   ],
   "source": [
    "# Algoritmo KNN K=5\n",
    "\n",
    "knn2 = KNeighborsClassifier(n_neighbors = 5)\n",
    "knn2.fit(X_train2, y_train)\n",
    "Y_pred = knn2.predict(X_test2)\n",
    "acc_knn2 = round(knn2.score(X_test2, y_test) * 100, 2)\n",
    "acc_knn2"
   ]
  },
  {
   "cell_type": "code",
   "execution_count": 214,
   "id": "f2b0e238",
   "metadata": {},
   "outputs": [
    {
     "data": {
      "text/plain": [
       "77.67"
      ]
     },
     "execution_count": 214,
     "metadata": {},
     "output_type": "execute_result"
    }
   ],
   "source": [
    "# Algoritmo KNN K=3\n",
    "\n",
    "knn3 = KNeighborsClassifier(n_neighbors = 3)\n",
    "knn3.fit(X_train2, y_train)\n",
    "Y_pred = knn3.predict(X_test2)\n",
    "acc_knn3 = round(knn3.score(X_test2, y_test) * 100, 2)\n",
    "acc_knn3"
   ]
  },
  {
   "cell_type": "markdown",
   "id": "41b066d2",
   "metadata": {},
   "source": [
    "##### Árvore de Decisão"
   ]
  },
  {
   "cell_type": "code",
   "execution_count": 215,
   "id": "9f26be0d",
   "metadata": {},
   "outputs": [
    {
     "data": {
      "text/plain": [
       "78.5"
      ]
     },
     "execution_count": 215,
     "metadata": {},
     "output_type": "execute_result"
    }
   ],
   "source": [
    "# Algoritmo Árvore de Decisão sem definir a profundidade máxima\n",
    "\n",
    "decision_tree0 = DecisionTreeClassifier(criterion='entropy', random_state=15) # Árvore com profundidade 2\n",
    "decision_tree0.fit(X_train2, y_train)\n",
    "Y_pred = decision_tree0.predict(X_test2)\n",
    "acc_decision_tree0 = round(decision_tree0.score(X_test2, y_test) * 100, 2)\n",
    "acc_decision_tree0"
   ]
  },
  {
   "cell_type": "code",
   "execution_count": 216,
   "id": "f90d3e4e",
   "metadata": {},
   "outputs": [
    {
     "data": {
      "text/plain": [
       "65.25"
      ]
     },
     "execution_count": 216,
     "metadata": {},
     "output_type": "execute_result"
    }
   ],
   "source": [
    "# Algoritmo Árvore de Decisão com profundidade máxima = 2  e entropy\n",
    "\n",
    "decision_tree1 = DecisionTreeClassifier(max_depth=2, criterion='entropy', random_state=15) # Árvore com profundidade 2\n",
    "decision_tree1.fit(X_train2, y_train)\n",
    "Y_pred = decision_tree1.predict(X_test2)\n",
    "acc_decision_tree1 = round(decision_tree1.score(X_test2, y_test) * 100, 2)\n",
    "acc_decision_tree1"
   ]
  },
  {
   "cell_type": "code",
   "execution_count": 217,
   "id": "f892573e",
   "metadata": {},
   "outputs": [
    {
     "data": {
      "text/plain": [
       "65.25"
      ]
     },
     "execution_count": 217,
     "metadata": {},
     "output_type": "execute_result"
    }
   ],
   "source": [
    "# Algoritmo Árvore de Decisão com profundidade máxima = 2 e gini\n",
    "\n",
    "decision_tree2 = DecisionTreeClassifier(max_depth=2, criterion='gini', random_state=15) # Árvore com profundidade 2\n",
    "decision_tree2.fit(X_train2, y_train)\n",
    "Y_pred = decision_tree2.predict(X_test2)\n",
    "acc_decision_tree2 = round(decision_tree2.score(X_test2, y_test) * 100, 2)\n",
    "acc_decision_tree2"
   ]
  },
  {
   "cell_type": "code",
   "execution_count": 218,
   "id": "cf9e1f5a",
   "metadata": {},
   "outputs": [
    {
     "data": {
      "text/plain": [
       "68.84"
      ]
     },
     "execution_count": 218,
     "metadata": {},
     "output_type": "execute_result"
    }
   ],
   "source": [
    "# Algoritmo Árvore de Decisão com profundidade máxima = 4 e entropy\n",
    "\n",
    "decision_tree3 = DecisionTreeClassifier(max_depth=4, criterion='entropy', random_state=15) # Árvore com profundidade 4\n",
    "decision_tree3.fit(X_train2, y_train)\n",
    "Y_pred = decision_tree3.predict(X_test2)\n",
    "acc_decision_tree3 = round(decision_tree3.score(X_test2, y_test) * 100, 2)\n",
    "acc_decision_tree3"
   ]
  },
  {
   "cell_type": "code",
   "execution_count": 219,
   "id": "5629e5de",
   "metadata": {},
   "outputs": [
    {
     "data": {
      "text/plain": [
       "68.92"
      ]
     },
     "execution_count": 219,
     "metadata": {},
     "output_type": "execute_result"
    }
   ],
   "source": [
    "# Algoritmo Árvore de Decisão com profundidade máxima = 4 e gini\n",
    "\n",
    "decision_tree4 = DecisionTreeClassifier(max_depth=4, criterion='gini', random_state=15) # Árvore com profundidade 4\n",
    "decision_tree4.fit(X_train2, y_train)\n",
    "Y_pred = decision_tree4.predict(X_test2)\n",
    "acc_decision_tree4 = round(decision_tree4.score(X_test2, y_test) * 100, 2)\n",
    "acc_decision_tree4"
   ]
  },
  {
   "cell_type": "markdown",
   "id": "d17fc431",
   "metadata": {},
   "source": [
    "##### Floresta Aleatória"
   ]
  },
  {
   "cell_type": "code",
   "execution_count": 220,
   "id": "07eb3296",
   "metadata": {},
   "outputs": [
    {
     "data": {
      "text/plain": [
       "83.78"
      ]
     },
     "execution_count": 220,
     "metadata": {},
     "output_type": "execute_result"
    }
   ],
   "source": [
    "# Random Forest com criterio entropy\n",
    "\n",
    "random_forest1 = RandomForestClassifier(n_estimators=1000, criterion= 'entropy', random_state=15)\n",
    "random_forest1.fit(X_train2, y_train)\n",
    "Y_pred = random_forest1.predict(X_test2)\n",
    "random_forest1.score(X_train2, y_train)\n",
    "acc_random_forest1 = round(random_forest1.score(X_test2, y_test) * 100, 2)\n",
    "acc_random_forest1"
   ]
  },
  {
   "cell_type": "code",
   "execution_count": 221,
   "id": "7afa472d",
   "metadata": {},
   "outputs": [
    {
     "data": {
      "text/plain": [
       "83.76"
      ]
     },
     "execution_count": 221,
     "metadata": {},
     "output_type": "execute_result"
    }
   ],
   "source": [
    "# Random Forest com criterio gini\n",
    "\n",
    "random_forest2 = RandomForestClassifier(n_estimators=1000, criterion= 'gini', random_state=15)\n",
    "random_forest2.fit(X_train2, y_train)\n",
    "Y_pred = random_forest2.predict(X_test2)\n",
    "random_forest2.score(X_train2, y_train)\n",
    "acc_random_forest2 = round(random_forest2.score(X_test2, y_test) * 100, 2)\n",
    "acc_random_forest2"
   ]
  },
  {
   "cell_type": "markdown",
   "id": "c020f813",
   "metadata": {},
   "source": [
    "##### Extra Trees"
   ]
  },
  {
   "cell_type": "code",
   "execution_count": 222,
   "id": "907b74bc",
   "metadata": {},
   "outputs": [
    {
     "data": {
      "text/plain": [
       "83.22"
      ]
     },
     "execution_count": 222,
     "metadata": {},
     "output_type": "execute_result"
    }
   ],
   "source": [
    "# ExtraTrees com criterio entropy\n",
    "\n",
    "extra_tress1 = ExtraTreesClassifier(n_estimators=1000, criterion= 'entropy', random_state=15)\n",
    "extra_tress1.fit(X_train2, y_train)\n",
    "Y_pred = extra_tress1.predict(X_test2)\n",
    "extra_tress1.score(X_train2, y_train)\n",
    "acc_extra_tress1 = round(extra_tress1.score(X_test2, y_test) * 100, 2)\n",
    "acc_extra_tress1"
   ]
  },
  {
   "cell_type": "code",
   "execution_count": 223,
   "id": "f41629d7",
   "metadata": {},
   "outputs": [
    {
     "data": {
      "text/plain": [
       "83.36"
      ]
     },
     "execution_count": 223,
     "metadata": {},
     "output_type": "execute_result"
    }
   ],
   "source": [
    "# ExtraTrees com criterio gini\n",
    "\n",
    "extra_tress2 = ExtraTreesClassifier(n_estimators=1000, criterion= 'gini', random_state=15)\n",
    "extra_tress2.fit(X_train2, y_train)\n",
    "Y_pred = extra_tress2.predict(X_test2)\n",
    "extra_tress2.score(X_train2, y_train)\n",
    "acc_extra_tress2 = round(extra_tress2.score(X_test2, y_test) * 100, 2)\n",
    "acc_extra_tress2"
   ]
  },
  {
   "cell_type": "code",
   "execution_count": 224,
   "id": "15beec97",
   "metadata": {},
   "outputs": [
    {
     "data": {
      "text/html": [
       "<div>\n",
       "<style scoped>\n",
       "    .dataframe tbody tr th:only-of-type {\n",
       "        vertical-align: middle;\n",
       "    }\n",
       "\n",
       "    .dataframe tbody tr th {\n",
       "        vertical-align: top;\n",
       "    }\n",
       "\n",
       "    .dataframe thead th {\n",
       "        text-align: right;\n",
       "    }\n",
       "</style>\n",
       "<table border=\"1\" class=\"dataframe\">\n",
       "  <thead>\n",
       "    <tr style=\"text-align: right;\">\n",
       "      <th></th>\n",
       "      <th>Modelo</th>\n",
       "      <th>Score</th>\n",
       "    </tr>\n",
       "  </thead>\n",
       "  <tbody>\n",
       "    <tr>\n",
       "      <th>8</th>\n",
       "      <td>Floresta Aleatória (Entropy)</td>\n",
       "      <td>83.78</td>\n",
       "    </tr>\n",
       "    <tr>\n",
       "      <th>9</th>\n",
       "      <td>Floresta Aleatória (Gini)</td>\n",
       "      <td>83.76</td>\n",
       "    </tr>\n",
       "    <tr>\n",
       "      <th>11</th>\n",
       "      <td>ExtraTrees (Gini)</td>\n",
       "      <td>83.36</td>\n",
       "    </tr>\n",
       "    <tr>\n",
       "      <th>10</th>\n",
       "      <td>ExtraTrees (Entropy)</td>\n",
       "      <td>83.22</td>\n",
       "    </tr>\n",
       "    <tr>\n",
       "      <th>3</th>\n",
       "      <td>Árvore de Decisão padrão</td>\n",
       "      <td>78.50</td>\n",
       "    </tr>\n",
       "    <tr>\n",
       "      <th>2</th>\n",
       "      <td>KNN com K=3</td>\n",
       "      <td>77.67</td>\n",
       "    </tr>\n",
       "    <tr>\n",
       "      <th>1</th>\n",
       "      <td>KNN com K=5</td>\n",
       "      <td>76.22</td>\n",
       "    </tr>\n",
       "    <tr>\n",
       "      <th>0</th>\n",
       "      <td>KNN com K=7</td>\n",
       "      <td>75.88</td>\n",
       "    </tr>\n",
       "    <tr>\n",
       "      <th>7</th>\n",
       "      <td>Árvore de Decisão com profundidade máxima = 4 ...</td>\n",
       "      <td>68.92</td>\n",
       "    </tr>\n",
       "    <tr>\n",
       "      <th>6</th>\n",
       "      <td>Árvore de Decisão com profundidade máxima = 4 ...</td>\n",
       "      <td>68.84</td>\n",
       "    </tr>\n",
       "    <tr>\n",
       "      <th>4</th>\n",
       "      <td>Árvore de Decisão com profundidade máxima = 2 ...</td>\n",
       "      <td>65.25</td>\n",
       "    </tr>\n",
       "    <tr>\n",
       "      <th>5</th>\n",
       "      <td>Árvore de Decisão com profundidade máxima = 2 ...</td>\n",
       "      <td>65.25</td>\n",
       "    </tr>\n",
       "  </tbody>\n",
       "</table>\n",
       "</div>"
      ],
      "text/plain": [
       "                                               Modelo  Score\n",
       "8                        Floresta Aleatória (Entropy)  83.78\n",
       "9                           Floresta Aleatória (Gini)  83.76\n",
       "11                                  ExtraTrees (Gini)  83.36\n",
       "10                               ExtraTrees (Entropy)  83.22\n",
       "3                            Árvore de Decisão padrão  78.50\n",
       "2                                         KNN com K=3  77.67\n",
       "1                                         KNN com K=5  76.22\n",
       "0                                         KNN com K=7  75.88\n",
       "7   Árvore de Decisão com profundidade máxima = 4 ...  68.92\n",
       "6   Árvore de Decisão com profundidade máxima = 4 ...  68.84\n",
       "4   Árvore de Decisão com profundidade máxima = 2 ...  65.25\n",
       "5   Árvore de Decisão com profundidade máxima = 2 ...  65.25"
      ]
     },
     "execution_count": 224,
     "metadata": {},
     "output_type": "execute_result"
    }
   ],
   "source": [
    "models2 = pd.DataFrame({\n",
    "    'Modelo': ['KNN com K=7', 'KNN com K=5', 'KNN com K=3', \n",
    "              'Árvore de Decisão padrão', 'Árvore de Decisão com profundidade máxima = 2  e entropy', \n",
    "              'Árvore de Decisão com profundidade máxima = 2 e gini', 'Árvore de Decisão com profundidade máxima = 4 e entropy',\n",
    "              'Árvore de Decisão com profundidade máxima = 4 e gini',\n",
    "              'Floresta Aleatória (Entropy)', 'Floresta Aleatória (Gini)',\n",
    "              'ExtraTrees (Entropy)', 'ExtraTrees (Gini)'],\n",
    "    'Score': [acc_knn1, acc_knn2, acc_knn3, \n",
    "              acc_decision_tree0, acc_decision_tree1, acc_decision_tree2, acc_decision_tree3, acc_decision_tree4,\n",
    "              acc_random_forest1, acc_random_forest2,\n",
    "             acc_extra_tress1, acc_extra_tress2]})\n",
    "models2.sort_values(by='Score', ascending=False)"
   ]
  },
  {
   "cell_type": "markdown",
   "id": "f41603bb",
   "metadata": {},
   "source": [
    "Reduzindo o número de variáveis não obteve resultados melhores, então vamos continuar com o modelo de random forest com criterio de entropia usando todas as variáveis"
   ]
  },
  {
   "cell_type": "code",
   "execution_count": 227,
   "id": "6f3cd10e",
   "metadata": {},
   "outputs": [
    {
     "data": {
      "text/plain": [
       "RandomForestClassifier(criterion='entropy', n_estimators=1000, random_state=15)"
      ]
     },
     "execution_count": 227,
     "metadata": {},
     "output_type": "execute_result"
    }
   ],
   "source": [
    "modelo = RandomForestClassifier(n_estimators=1000, criterion= 'entropy', random_state=15)\n",
    "modelo.fit(X_train, y_train)"
   ]
  },
  {
   "cell_type": "code",
   "execution_count": 232,
   "id": "19b15adc",
   "metadata": {},
   "outputs": [
    {
     "name": "stdout",
     "output_type": "stream",
     "text": [
      "Com 95% de confiança, o modelo selecionado tem precisão entre  83.67 % e  85.01 %\n"
     ]
    }
   ],
   "source": [
    "z = 1.96\n",
    "p = round(modelo.score(X_test, y_test),4)\n",
    "\n",
    "ICI = round((p - z * math.sqrt(p * (1 - p) / len(X_train))) * 100,2)\n",
    "ICS = round((p + z * math.sqrt(p * (1 - p) / len(X_train))) * 100,2)\n",
    "\n",
    "print('Com 95% de confiança, o modelo selecionado tem precisão entre ', ICI,'% e ', ICS, '%')"
   ]
  },
  {
   "cell_type": "code",
   "execution_count": null,
   "id": "e5d66338",
   "metadata": {},
   "outputs": [],
   "source": []
  }
 ],
 "metadata": {
  "kernelspec": {
   "display_name": "Python 3",
   "language": "python",
   "name": "python3"
  },
  "language_info": {
   "codemirror_mode": {
    "name": "ipython",
    "version": 3
   },
   "file_extension": ".py",
   "mimetype": "text/x-python",
   "name": "python",
   "nbconvert_exporter": "python",
   "pygments_lexer": "ipython3",
   "version": "3.8.8"
  }
 },
 "nbformat": 4,
 "nbformat_minor": 5
}
